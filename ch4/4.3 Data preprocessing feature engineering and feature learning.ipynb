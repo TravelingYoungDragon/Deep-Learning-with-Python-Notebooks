{
 "cells": [
  {
   "cell_type": "markdown",
   "metadata": {},
   "source": [
    "# Deep Learning with Python\n",
    "\n",
    "## 4.3 Data preprocessing, feature engineering, and feature learning\n",
    "\n",
    "> 数据预处理、特征工程和特征学习\n",
    "\n",
    "### 数据预处理\n",
    "\n",
    "1. VECTORIZATION 向量化：喂给神经网络的数据都要是浮点数的张量（有时候也可以是整数的），我们要把各种真实的数据，比如文本、图像全变成张量。\n",
    "\n",
    "2. VALUE NORMALIZATION 值标准化：为了利于训练和结果，我们要让数据符合以下标准：\n",
    "    - 取值小，一般就 0~1；\n",
    "    - 同质性，即所有特征的取值范围大致相等；\n",
    "    \n",
    "如果严格一点（但不是必须的），我们可以把数据里的特征分别处理成平均值为 0，标准差为 1 的。用 Numpy 搞这个很简单：\n",
    "\n",
    "```python\n",
    "# x 是二维的：(samples, features)\n",
    "x -= x.mean(axis=0)\n",
    "x /= x.std(axis=0)\n",
    "```\n",
    "\n",
    "3. HANDLING MISSING VALUES 缺失值处理：一般来说，只要 0 不是有意义的值，就可以用 0 来代替缺失值。网络可以学会 0 是缺失的这种意思的。还有如果你的测试集是有缺失情况的，但训练集没有，就要手动加些人工数据去让网络学会缺失情况。\n",
    "\n",
    "### 特征工程\n",
    "\n",
    "特征工程(feature engineering)，就是在开始训练之前，手动对数据进行处理，得到一种易于机器学习模型从中学习的数据表示。\n",
    "\n",
    "我们的机器学习模型一般不能从任意的真实数据里面高效地自动学习，所以我们需要特征工程。特征工程的本质就是用更简单的方式表达问题，从而使问题变得更容易解决。\n",
    "\n",
    "![特征工程示意图](https://tva1.sinaimg.cn/large/007S8ZIlgy1ggkzvwdlyaj30vc0u0jwu.jpg)\n",
    "\n",
    "特征工程在深度学习之前都至关重要，浅层的学习一般都没有足够的假设空间去自己学习出关键的特征。但现在我们用深度学习可以免去大多数的特征工程了，深度学习可以自己从数据里学出有用的特征来，但是利用特征工程，我们的深度学习过程可以更加优雅、高效。\n",
    "\n"
   ]
  }
 ],
 "metadata": {
  "kernelspec": {
   "display_name": "Python 3",
   "language": "python",
   "name": "python3"
  },
  "language_info": {
   "codemirror_mode": {
    "name": "ipython",
    "version": 3
   },
   "file_extension": ".py",
   "mimetype": "text/x-python",
   "name": "python",
   "nbconvert_exporter": "python",
   "pygments_lexer": "ipython3",
   "version": "3.7.6"
  }
 },
 "nbformat": 4,
 "nbformat_minor": 4
}
