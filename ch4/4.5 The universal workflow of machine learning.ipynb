{
 "cells": [
  {
   "cell_type": "markdown",
   "metadata": {},
   "source": [
    "# Deep Learning with Python\n",
    "\n",
    "## 4.5 The universal workflow of machine learning\n",
    "\n",
    "> 机器学习的通用工作流程\n",
    "\n",
    "1. 定义问题，收集数据集：定义问题与要训练的数据。收集这些数据，有需要的话用标签来标注数据。\n",
    "\n",
    "2. 选择衡量成功的指标：选择衡量问题成功的指标。你要在验证数据上监控哪些指标?\n",
    "\n",
    "3. 确定评估方法：留出验证? K 折验证?你应该将哪一部分数据用于验证?\n",
    "\n",
    "4. 准备数据：预处理啦，特征工程啦。。\n",
    "\n",
    "6. 开发比基准(比如随机预测)更好的模型，即一个具有统计功效的模型。\n",
    "\n",
    "最后一层和损失的选择：\n",
    "![最后一层和损失的选择](https://tva1.sinaimg.cn/large/007S8ZIlgy1gglyp8zx9jj31jc0iiq75.jpg)\n",
    "\n",
    "7. 扩大规模，开发出过拟合的模型：加层、加单元、加轮次\n",
    "\n",
    "8. 调节超参数，模型正则化：基于模型在验证数据上的性能来进行模型正则化与调节超参数。\n",
    "\n"
   ]
  }
 ],
 "metadata": {
  "kernelspec": {
   "display_name": "Python 3",
   "language": "python",
   "name": "python3"
  },
  "language_info": {
   "codemirror_mode": {
    "name": "ipython",
    "version": 3
   },
   "file_extension": ".py",
   "mimetype": "text/x-python",
   "name": "python",
   "nbconvert_exporter": "python",
   "pygments_lexer": "ipython3",
   "version": "3.7.6"
  }
 },
 "nbformat": 4,
 "nbformat_minor": 4
}
