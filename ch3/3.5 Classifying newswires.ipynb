{
 "cells": [
  {
   "cell_type": "markdown",
   "metadata": {},
   "source": [
    "# Deep Learning with Python\n",
    "\n",
    "## 3.5 Classifying newswires: a multiclass classification example\n",
    "\n",
    "> 新闻分类: 多分类问题\n",
    "\n",
    "[原文链接](https://livebook.manning.com/book/deep-learning-with-python/chapter-3/192)\n",
    "\n",
    "3.4 节里我们不是把向量输入分成两类嘛，这节我们要把东西分成多类，即做“多分类（multi-class classification）”。\n",
    "\n",
    "我们要把来自路透社的新闻分到 46 个话题种类里，\n",
    "这里要求一条新闻只能属于一个类，所以具体来说，我们要做的是一个“单标签多分类（single-label, multiclass classification）”问题。\n",
    "\n",
    "### 路透社数据集\n",
    "\n",
    "the Reuters dataset，路透社在 1986 年（比我老多了😂）发布的数据集，里面有 46 类新闻，训练集里每类至少 10 条数据。\n",
    "\n",
    "这个玩具数据集和 IMDB、MNIST 一样，也在  Keras 里内置了："
   ]
  },
  {
   "cell_type": "code",
   "execution_count": 2,
   "metadata": {},
   "outputs": [
    {
     "name": "stdout",
     "output_type": "stream",
     "text": [
      "Downloading data from https://storage.googleapis.com/tensorflow/tf-keras-datasets/reuters.npz\n",
      "2113536/2110848 [==============================] - 6s 3us/step\n"
     ]
    }
   ],
   "source": [
    "from tensorflow.keras.datasets import reuters\n",
    "\n",
    "(train_data, train_labels), (test_data, test_labels) = reuters.load_data(\n",
    "    num_words=10000)"
   ]
  },
  {
   "cell_type": "markdown",
   "metadata": {},
   "source": [
    "这个数据集里面的数据和之前的 IMDB 一样，把单词翻译成了数字，然后我们只截取出现频率最高的10000个词。\n",
    "\n",
    "咱们这个训练集里有 8K+ 条数据，测试集 2K+："
   ]
  },
  {
   "cell_type": "code",
   "execution_count": 5,
   "metadata": {},
   "outputs": [
    {
     "name": "stdout",
     "output_type": "stream",
     "text": [
      "8982 2246\n"
     ]
    }
   ],
   "source": [
    "print(len(train_data), len(test_data))"
   ]
  },
  {
   "cell_type": "markdown",
   "metadata": {},
   "source": [
    "咱们还是像搞 IMDB 时那样，把数据还原会文本看看："
   ]
  },
  {
   "cell_type": "code",
   "execution_count": 10,
   "metadata": {},
   "outputs": [
    {
     "name": "stdout",
     "output_type": "stream",
     "text": [
      "? ? ? said as a result of its december acquisition of space co it expects earnings per share in 1987 of 1 15 to 1 30 dlrs per share up from 70 cts in 1986 the company said pretax net should rise to nine to 10 mln dlrs from six mln dlrs in 1986 and rental operation revenues to 19 to 22 mln dlrs from 12 5 mln dlrs it said cash flow per share this year should be 2 50 to three dlrs reuter 3\n"
     ]
    }
   ],
   "source": [
    "def decode_news(data):\n",
    "    reverse_word_index = {v: k for k, v in reuters.get_word_index().items()}\n",
    "    return ' '.join([reverse_word_index.get(i - 3, '?') for i in data])\n",
    "    # i - 3 是因为 0、1、2 为保留词 “padding”(填充)、“start of sequence”(序列开始)、“unknown”(未知词)\n",
    "\n",
    "\n",
    "text = decode_news(train_data[0])\n",
    "print(text)"
   ]
  },
  {
   "cell_type": "markdown",
   "metadata": {},
   "source": [
    "标签是 0~45 的数字："
   ]
  },
  {
   "cell_type": "code",
   "execution_count": 11,
   "metadata": {},
   "outputs": [
    {
     "data": {
      "text/plain": [
       "3"
      ]
     },
     "execution_count": 11,
     "metadata": {},
     "output_type": "execute_result"
    }
   ],
   "source": [
    "train_labels[0]"
   ]
  },
  {
   "cell_type": "markdown",
   "metadata": {},
   "source": [
    "### 数据准备\n",
    "\n",
    "首先，还是把数据位向量化，直接套用我们搞 IMDB 时写的代码："
   ]
  },
  {
   "cell_type": "code",
   "execution_count": 13,
   "metadata": {},
   "outputs": [],
   "source": [
    "import numpy as np\n",
    "\n",
    "def vectorize_sequences(sequences, dimension=10000):\n",
    "    results = np.zeros((len(sequences), dimension))\n",
    "    for i, sequence in enumerate(sequences):\n",
    "        results[i, sequence] = 1.\n",
    "    return results\n",
    "\n",
    "\n",
    "x_train = vectorize_sequences(train_data)\n",
    "x_test = vectorize_sequences(test_data)"
   ]
  },
  {
   "cell_type": "markdown",
   "metadata": {},
   "source": [
    "然后就是这种效果："
   ]
  },
  {
   "cell_type": "code",
   "execution_count": 14,
   "metadata": {},
   "outputs": [
    {
     "data": {
      "text/plain": [
       "array([[0., 1., 1., ..., 0., 0., 0.],\n",
       "       [0., 1., 1., ..., 0., 0., 0.],\n",
       "       [0., 1., 1., ..., 0., 0., 0.],\n",
       "       ...,\n",
       "       [0., 1., 1., ..., 0., 0., 0.],\n",
       "       [0., 1., 1., ..., 0., 0., 0.],\n",
       "       [0., 1., 1., ..., 0., 0., 0.]])"
      ]
     },
     "execution_count": 14,
     "metadata": {},
     "output_type": "execute_result"
    }
   ],
   "source": [
    "x_train"
   ]
  },
  {
   "cell_type": "markdown",
   "metadata": {},
   "source": [
    "然后要处理标签。我们可以把标签处理成整数张量，也可以用 `One-hot` 编码\n",
    "对于分类这种问题，我们常用 one-hot 编码（也叫*分类编码*，categorical encoding）。\n",
    "\n",
    "对于我们当前的问题，使用 one-hot 编码，即用除了标签索引位置为 1 其余位置全为 0 的向量："
   ]
  },
  {
   "cell_type": "code",
   "execution_count": 16,
   "metadata": {},
   "outputs": [],
   "source": [
    "def to_one_hot(labels, dimension=46):\n",
    "    results = np.zeros((len(labels), dimension))\n",
    "    for i, label in enumerate(labels):\n",
    "        results[i, label] = 1.\n",
    "    return results\n",
    "\n",
    "\n",
    "one_hot_train_labels = to_one_hot(train_labels)\n",
    "one_hot_test_labels = to_one_hot(test_labels)"
   ]
  },
  {
   "cell_type": "markdown",
   "metadata": {},
   "source": [
    "其实，，，Keras 里自带了一个可以干这个事情的函数："
   ]
  },
  {
   "cell_type": "code",
   "execution_count": 23,
   "metadata": {},
   "outputs": [],
   "source": [
    "from tensorflow.keras.utils import to_categorical\n",
    "# 书上是 from keras.utils.np_utils import to_categorical 但，，，时代变了，而且咱这用的是 tensorflow.keras，所以稍微有点区别\n",
    "\n",
    "one_hot_train_labels = to_categorical(train_labels)\n",
    "one_hot_test_labels = to_categorical(test_labels)"
   ]
  },
  {
   "cell_type": "code",
   "execution_count": 24,
   "metadata": {},
   "outputs": [
    {
     "data": {
      "text/plain": [
       "array([[0., 0., 0., ..., 0., 0., 0.],\n",
       "       [0., 0., 0., ..., 0., 0., 0.],\n",
       "       [0., 0., 0., ..., 0., 0., 0.],\n",
       "       ...,\n",
       "       [0., 0., 0., ..., 0., 0., 0.],\n",
       "       [0., 0., 0., ..., 0., 0., 0.],\n",
       "       [0., 0., 0., ..., 0., 0., 0.]], dtype=float32)"
      ]
     },
     "execution_count": 24,
     "metadata": {},
     "output_type": "execute_result"
    }
   ],
   "source": [
    "one_hot_train_labels"
   ]
  },
  {
   "cell_type": "markdown",
   "metadata": {},
   "source": [
    "### 构建网络\n",
    "\n",
    "这个问题和之前的电影评论分类问题还是差不多的，只是最后的解的可能从 2 -> 46，解空间大了太多了。\n",
    "\n",
    "对于我们用的 Dense 层堆叠，每层都是接收上一层输出的信息作为输入。\n",
    "所以，如果某一层丢失了一些信息，那么这些信息就再也不能被后面的层找回来了。\n",
    "如果丢失的信息对分类没用，那这种丢失是好的、我们期望发生的；\n",
    "但如果这些丢失的信息是对最后分类起作用的，那这种丢失就制约网络的结果了。\n",
    "也就是说，这可能造成一种“信息瓶颈”。这种瓶颈在每一层都可能发生。\n",
    "\n",
    "之前的电影评论分类最后只要 2 个结果，所以我们把层里的单元是用了 16 个，\n",
    "即让机器在一个 16 维空间里学习，以及足够大了，不太会有“信息瓶颈“。\n",
    "\n",
    "而我们现在的问题，解空间是 46 维的。\n",
    "直接照搬之前的代码，让它在 16 维空间里学习，肯定有瓶颈！\n",
    "\n",
    "解决瓶颈的办法很简单，直接增加层里的单元就好。这里我们是 16 -> 64:"
   ]
  },
  {
   "cell_type": "code",
   "execution_count": 25,
   "metadata": {},
   "outputs": [],
   "source": [
    "from tensorflow.keras import models\n",
    "from tensorflow.keras import layers\n",
    "\n",
    "model = models.Sequential()\n",
    "model.add(layers.Dense(64, activation='relu', input_shape=(10000,)))\n",
    "model.add(layers.Dense(64, activation='relu'))\n",
    "model.add(layers.Dense(46, activation='softmax'))"
   ]
  },
  {
   "cell_type": "markdown",
   "metadata": {},
   "source": [
    "在最后一层，我们的输出是 46 维的，对应 46 种分类，\n",
    "而这一层的激活函数是 softmax，和我们在训练 MNIST 时用的一样。\n",
    "\n",
    "用 softmax 可以让网络输出在 46 种分类上的概率分布，即一个 46 维的向量，\n",
    "其中第 i 个元素代表输入属于第 i 种分类的可能性，\n",
    "并且这 46 个元素的总和为 `1`。\n",
    "\n",
    "### 编译模型\n",
    "\n",
    "编译模型，又要确定损失函数、优化器和优化的目标了。\n",
    "\n",
    "- 损失函数，分类问题嘛，还是用“分类交叉熵” categorical_crossentropy。\n",
    "- 优化器，其实对很多问题我们都是用 rmsprop\n",
    "- 目标还是一个，预测的精度 accuracy"
   ]
  },
  {
   "cell_type": "code",
   "execution_count": 26,
   "metadata": {},
   "outputs": [],
   "source": [
    "model.compile(optimizer='rmsprop',\n",
    "              loss='categorical_crossentropy',\n",
    "              metrics=['accuracy'])"
   ]
  },
  {
   "cell_type": "markdown",
   "metadata": {},
   "source": [
    "### 验证效果\n",
    "\n",
    "我们还是要搞一个验证集来在训练过程中评估模型的。从训练集里分个 1K 条数据出来就好："
   ]
  },
  {
   "cell_type": "code",
   "execution_count": 27,
   "metadata": {},
   "outputs": [],
   "source": [
    "x_val = x_train[:1000]\n",
    "partial_x_train = x_train[1000:]\n",
    "\n",
    "y_val = one_hot_train_labels[:1000]\n",
    "partial_y_train = one_hot_train_labels[1000:]"
   ]
  },
  {
   "cell_type": "markdown",
   "metadata": {},
   "source": [
    "### 训练模型\n",
    "\n",
    "好了，准备工作完成，又可以看到最迷人的训练过程了！"
   ]
  },
  {
   "cell_type": "code",
   "execution_count": 28,
   "metadata": {},
   "outputs": [
    {
     "name": "stdout",
     "output_type": "stream",
     "text": [
      "Train on 7982 samples, validate on 1000 samples\n",
      "Epoch 1/20\n",
      "7982/7982 [==============================] - 3s 372us/sample - loss: 2.6180 - accuracy: 0.5150 - val_loss: 1.7517 - val_accuracy: 0.6290\n",
      "Epoch 2/20\n",
      "7982/7982 [==============================] - 1s 148us/sample - loss: 1.4632 - accuracy: 0.6899 - val_loss: 1.3370 - val_accuracy: 0.7120\n",
      "Epoch 3/20\n",
      "7982/7982 [==============================] - 1s 86us/sample - loss: 1.0988 - accuracy: 0.7628 - val_loss: 1.1418 - val_accuracy: 0.7430\n",
      "Epoch 4/20\n",
      "7982/7982 [==============================] - 1s 87us/sample - loss: 0.8710 - accuracy: 0.8108 - val_loss: 1.0585 - val_accuracy: 0.7640\n",
      "Epoch 5/20\n",
      "7982/7982 [==============================] - 1s 90us/sample - loss: 0.6991 - accuracy: 0.8517 - val_loss: 0.9519 - val_accuracy: 0.8000\n",
      "Epoch 6/20\n",
      "7982/7982 [==============================] - 1s 102us/sample - loss: 0.5634 - accuracy: 0.8792 - val_loss: 0.9182 - val_accuracy: 0.8060\n",
      "Epoch 7/20\n",
      "7982/7982 [==============================] - 1s 88us/sample - loss: 0.4526 - accuracy: 0.9035 - val_loss: 0.8910 - val_accuracy: 0.8190\n",
      "Epoch 8/20\n",
      "7982/7982 [==============================] - 1s 86us/sample - loss: 0.3660 - accuracy: 0.9258 - val_loss: 0.8876 - val_accuracy: 0.8140\n",
      "Epoch 9/20\n",
      "7982/7982 [==============================] - 1s 90us/sample - loss: 0.3043 - accuracy: 0.9366 - val_loss: 0.9515 - val_accuracy: 0.8020\n",
      "Epoch 10/20\n",
      "7982/7982 [==============================] - 1s 91us/sample - loss: 0.2487 - accuracy: 0.9455 - val_loss: 0.8917 - val_accuracy: 0.8150\n",
      "Epoch 11/20\n",
      "7982/7982 [==============================] - 1s 84us/sample - loss: 0.2186 - accuracy: 0.9496 - val_loss: 0.8868 - val_accuracy: 0.8300\n",
      "Epoch 12/20\n",
      "7982/7982 [==============================] - 1s 103us/sample - loss: 0.1896 - accuracy: 0.9498 - val_loss: 0.9366 - val_accuracy: 0.8230\n",
      "Epoch 13/20\n",
      "7982/7982 [==============================] - 1s 91us/sample - loss: 0.1709 - accuracy: 0.9539 - val_loss: 0.9343 - val_accuracy: 0.8140\n",
      "Epoch 14/20\n",
      "7982/7982 [==============================] - 1s 94us/sample - loss: 0.1575 - accuracy: 0.9554 - val_loss: 0.9475 - val_accuracy: 0.8160\n",
      "Epoch 15/20\n",
      "7982/7982 [==============================] - 1s 121us/sample - loss: 0.1441 - accuracy: 0.9550 - val_loss: 0.9729 - val_accuracy: 0.8130\n",
      "Epoch 16/20\n",
      "7982/7982 [==============================] - 1s 97us/sample - loss: 0.1375 - accuracy: 0.9555 - val_loss: 0.9875 - val_accuracy: 0.8140\n",
      "Epoch 17/20\n",
      "7982/7982 [==============================] - 1s 91us/sample - loss: 0.1269 - accuracy: 0.9569 - val_loss: 1.0098 - val_accuracy: 0.8080\n",
      "Epoch 18/20\n",
      "7982/7982 [==============================] - 1s 91us/sample - loss: 0.1184 - accuracy: 0.9589 - val_loss: 1.0042 - val_accuracy: 0.8040\n",
      "Epoch 19/20\n",
      "7982/7982 [==============================] - 1s 86us/sample - loss: 0.1167 - accuracy: 0.9589 - val_loss: 1.1016 - val_accuracy: 0.8000\n",
      "Epoch 20/20\n",
      "7982/7982 [==============================] - 1s 91us/sample - loss: 0.1134 - accuracy: 0.9578 - val_loss: 1.0900 - val_accuracy: 0.8040\n"
     ]
    }
   ],
   "source": [
    "history = model.fit(partial_x_train,\n",
    "                    partial_y_train,\n",
    "                    epochs=20,\n",
    "                    batch_size=512,\n",
    "                    validation_data=(x_val, y_val))"
   ]
  },
  {
   "cell_type": "markdown",
   "metadata": {},
   "source": [
    "🆗挺快的，照例，还是画图看看训练过程。\n",
    "\n",
    "1. 训练过程中的损失"
   ]
  },
  {
   "cell_type": "code",
   "execution_count": 29,
   "metadata": {},
   "outputs": [
    {
     "data": {
      "image/png": "[encoded data removed]",
      "text/plain": [
       "<Figure size 432x288 with 1 Axes>"
      ]
     },
     "metadata": {
      "needs_background": "light"
     },
     "output_type": "display_data"
    }
   ],
   "source": [
    "import matplotlib.pyplot as plt\n",
    "\n",
    "loss = history.history['loss']\n",
    "val_loss = history.history['val_loss']\n",
    "epochs = range(1, len(loss) + 1)\n",
    "\n",
    "plt.plot(epochs, loss, 'bo-', label='Training loss')\n",
    "plt.plot(epochs, val_loss, 'rs-', label='Validation loss')\n",
    "plt.title('Training and validation loss')\n",
    "plt.xlabel('Epochs')\n",
    "plt.ylabel('Loss')\n",
    "plt.legend()\n",
    "plt.show()"
   ]
  },
  {
   "cell_type": "markdown",
   "metadata": {},
   "source": [
    "2. 训练过程中的精度"
   ]
  },
  {
   "cell_type": "code",
   "execution_count": 35,
   "metadata": {},
   "outputs": [
    {
     "data": {
      "image/png": "[encoded data removed]",
      "text/plain": [
       "<Figure size 432x288 with 1 Axes>"
      ]
     },
     "metadata": {
      "needs_background": "light"
     },
     "output_type": "display_data"
    }
   ],
   "source": [
    "plt.clf()\n",
    "\n",
    "acc = history.history['accuracy']\n",
    "val_acc = history.history['val_accuracy']\n",
    "\n",
    "plt.plot(epochs, acc, 'bo-', label='Training acc')\n",
    "plt.plot(epochs, val_acc, 'rs-', label='Validation acc')\n",
    "plt.title('Training and validation accuracy')\n",
    "plt.xlabel('Epochs')\n",
    "plt.ylabel('Loss')\n",
    "plt.legend()\n",
    "plt.show()"
   ]
  },
  {
   "cell_type": "markdown",
   "metadata": {},
   "source": [
    "Emmmm，说，第9轮 epochs 的时候开始过拟合了（你看validation的曲线抖在第9轮了一下）。\n",
    "所以只要跑 9 轮就够了。"
   ]
  },
  {
   "cell_type": "code",
   "execution_count": 37,
   "metadata": {},
   "outputs": [
    {
     "name": "stdout",
     "output_type": "stream",
     "text": [
      "Train on 7982 samples, validate on 1000 samples\n",
      "Epoch 1/9\n",
      "7982/7982 [==============================] - 1s 153us/sample - loss: 2.5943 - accuracy: 0.5515 - val_loss: 1.7017 - val_accuracy: 0.6410\n",
      "Epoch 2/9\n",
      "7982/7982 [==============================] - 1s 87us/sample - loss: 1.3850 - accuracy: 0.7102 - val_loss: 1.3064 - val_accuracy: 0.7280\n",
      "Epoch 3/9\n",
      "7982/7982 [==============================] - 1s 82us/sample - loss: 1.0315 - accuracy: 0.7813 - val_loss: 1.1210 - val_accuracy: 0.7520\n",
      "Epoch 4/9\n",
      "7982/7982 [==============================] - 1s 90us/sample - loss: 0.8110 - accuracy: 0.8282 - val_loss: 1.0099 - val_accuracy: 0.7990\n",
      "Epoch 5/9\n",
      "7982/7982 [==============================] - 1s 94us/sample - loss: 0.6407 - accuracy: 0.8671 - val_loss: 0.9611 - val_accuracy: 0.8080\n",
      "Epoch 6/9\n",
      "7982/7982 [==============================] - 1s 91us/sample - loss: 0.5147 - accuracy: 0.8926 - val_loss: 0.9399 - val_accuracy: 0.8030\n",
      "Epoch 7/9\n",
      "7982/7982 [==============================] - 1s 86us/sample - loss: 0.4111 - accuracy: 0.9177 - val_loss: 0.9092 - val_accuracy: 0.8060\n",
      "Epoch 8/9\n",
      "7982/7982 [==============================] - 1s 85us/sample - loss: 0.3341 - accuracy: 0.9287 - val_loss: 0.8829 - val_accuracy: 0.8110\n",
      "Epoch 9/9\n",
      "7982/7982 [==============================] - 1s 84us/sample - loss: 0.2793 - accuracy: 0.9402 - val_loss: 0.8758 - val_accuracy: 0.8170\n"
     ]
    },
    {
     "data": {
      "text/plain": [
       "<tensorflow.python.keras.callbacks.History at 0x16eb5d6d0>"
      ]
     },
     "execution_count": 37,
     "metadata": {},
     "output_type": "execute_result"
    }
   ],
   "source": [
    "model = models.Sequential()\n",
    "model.add(layers.Dense(64, activation='relu', input_shape=(10000,)))\n",
    "model.add(layers.Dense(64, activation='relu'))\n",
    "model.add(layers.Dense(46, activation='softmax'))\n",
    "\n",
    "model.compile(optimizer='rmsprop',\n",
    "              loss='categorical_crossentropy',\n",
    "              metrics=['accuracy'])\n",
    "\n",
    "model.fit(partial_x_train,\n",
    "          partial_y_train,\n",
    "          epochs=9,\n",
    "          batch_size=512,\n",
    "          validation_data=(x_val, y_val))"
   ]
  },
  {
   "cell_type": "markdown",
   "metadata": {},
   "source": [
    "然后，用测试集测试一下:"
   ]
  },
  {
   "cell_type": "code",
   "execution_count": 39,
   "metadata": {},
   "outputs": [
    {
     "name": "stdout",
     "output_type": "stream",
     "text": [
      "2246/1 - 0s - loss: 1.7611 - accuracy: 0.7912\n",
      "[0.983459981976082, 0.7911843]\n"
     ]
    }
   ],
   "source": [
    "results = model.evaluate(x_test, one_hot_test_labels, verbose=2)\n",
    "print(results)"
   ]
  },
  {
   "cell_type": "markdown",
   "metadata": {},
   "source": [
    "精度差不多 80%，其实还是不错的了，比随机瞎划线去分好多了。\n",
    "\n",
    "如果随机划线去分类的话，对二元分类问题精度是 50 %，而对这 46 元的分类精度只要不到 19% 了："
   ]
  },
  {
   "cell_type": "code",
   "execution_count": 40,
   "metadata": {},
   "outputs": [
    {
     "data": {
      "text/plain": [
       "0.18432769367764915"
      ]
     },
     "execution_count": 40,
     "metadata": {},
     "output_type": "execute_result"
    }
   ],
   "source": [
    "import copy\n",
    "\n",
    "test_labels_copy = copy.copy(test_labels)\n",
    "np.random.shuffle(test_labels_copy)\n",
    "hits_array = np.array(test_labels) == np.array(test_labels_copy)\n",
    "float(np.sum(hits_array)) / len(test_labels)"
   ]
  },
  {
   "cell_type": "markdown",
   "metadata": {},
   "source": [
    "调用 model 实例的 predict 方法，可以得到对输入在 46 个分类上的概率分布："
   ]
  },
  {
   "cell_type": "code",
   "execution_count": 42,
   "metadata": {},
   "outputs": [
    {
     "data": {
      "text/plain": [
       "array([[4.7181980e-05, 2.0765587e-05, 8.6653872e-06, ..., 3.1266565e-05,\n",
       "        8.2046267e-07, 6.0611728e-06],\n",
       "       [5.9005950e-04, 1.3404934e-02, 1.2290048e-03, ..., 4.2919168e-05,\n",
       "        5.7422225e-05, 4.0201416e-05],\n",
       "       [8.5751421e-04, 9.2367262e-01, 1.5855590e-03, ..., 4.8341672e-04,\n",
       "        4.5594123e-05, 2.6183401e-05],\n",
       "       ...,\n",
       "       [8.5679676e-05, 2.0081598e-04, 4.1808224e-05, ..., 7.6962686e-05,\n",
       "        6.5783697e-06, 2.9889508e-05],\n",
       "       [1.7291466e-03, 2.5600385e-02, 1.8182390e-03, ..., 1.4499390e-03,\n",
       "        4.8478998e-04, 8.5257640e-04],\n",
       "       [2.5776261e-04, 8.6797208e-01, 3.9900807e-03, ..., 2.6547859e-04,\n",
       "        6.5820634e-05, 6.8603881e-06]], dtype=float32)"
      ]
     },
     "execution_count": 42,
     "metadata": {},
     "output_type": "execute_result"
    }
   ],
   "source": [
    "predictions = model.predict(x_test)\n",
    "predictions"
   ]
  },
  {
   "cell_type": "code",
   "execution_count": 43,
   "metadata": {},
   "outputs": [
    {
     "data": {
      "text/plain": [
       "(46,)"
      ]
     },
     "execution_count": 43,
     "metadata": {},
     "output_type": "execute_result"
    }
   ],
   "source": [
    "# 分别代表 46 个分类的可能\n",
    "predictions[0].shape"
   ]
  },
  {
   "cell_type": "code",
   "execution_count": 44,
   "metadata": {},
   "outputs": [
    {
     "data": {
      "text/plain": [
       "0.99999994"
      ]
     },
     "execution_count": 44,
     "metadata": {},
     "output_type": "execute_result"
    }
   ],
   "source": [
    "# 总和为 1\n",
    "np.sum(predictions[0])"
   ]
  },
  {
   "cell_type": "code",
   "execution_count": 46,
   "metadata": {},
   "outputs": [
    {
     "data": {
      "text/plain": [
       "3"
      ]
     },
     "execution_count": 46,
     "metadata": {},
     "output_type": "execute_result"
    }
   ],
   "source": [
    "# 最大的，即我们认为这条新闻属于这个分类\n",
    "np.argmax(predictions[0])"
   ]
  },
  {
   "cell_type": "markdown",
   "metadata": {},
   "source": [
    "### 处理标签和损失的另一种方法\n",
    "\n",
    "前面提到了标签可以使用 one-hot 编码，或者直接把标签处理成整数张量："
   ]
  },
  {
   "cell_type": "code",
   "execution_count": 47,
   "metadata": {},
   "outputs": [],
   "source": [
    "y_train = np.array(train_labels)\n",
    "y_test = np.array(test_labels)"
   ]
  },
  {
   "cell_type": "markdown",
   "metadata": {},
   "source": [
    "用这种的话，损失函数也要跟着改，改成 sparse_categorical_crossentropy，\n",
    "这个和 categorical_crossentropy 在数学上是一样的，只是接口不同："
   ]
  },
  {
   "cell_type": "code",
   "execution_count": null,
   "metadata": {},
   "outputs": [],
   "source": [
    " model.compile(optimizer='rmsprop',\n",
    "               loss='sparse_categorical_crossentropy',\n",
    "               metrics=['acc'])"
   ]
  },
  {
   "cell_type": "markdown",
   "metadata": {},
   "source": [
    "### 中间层维度足够大的重要性\n",
    "\n",
    "之前讨论了关于“信息瓶颈”的事，然后我们就说对这个 46 维结果的网络，中间层的维度要足够大！\n",
    "\n",
    "现在咱试试如果不够大（导致信息瓶颈）会怎么样，咱搞夸张一点，从 64 减到 4："
   ]
  },
  {
   "cell_type": "code",
   "execution_count": 48,
   "metadata": {},
   "outputs": [
    {
     "name": "stdout",
     "output_type": "stream",
     "text": [
      "Train on 7982 samples, validate on 1000 samples\n",
      "Epoch 1/20\n",
      "7982/7982 [==============================] - 2s 288us/sample - loss: 2.8097 - accuracy: 0.4721 - val_loss: 2.0554 - val_accuracy: 0.5430\n",
      "Epoch 2/20\n",
      "7982/7982 [==============================] - 1s 117us/sample - loss: 1.7869 - accuracy: 0.5539 - val_loss: 1.6640 - val_accuracy: 0.5620\n",
      "Epoch 3/20\n",
      "7982/7982 [==============================] - 1s 125us/sample - loss: 1.4661 - accuracy: 0.6194 - val_loss: 1.4843 - val_accuracy: 0.6340\n",
      "Epoch 4/20\n",
      "7982/7982 [==============================] - 1s 120us/sample - loss: 1.2879 - accuracy: 0.6548 - val_loss: 1.4385 - val_accuracy: 0.6510\n",
      "Epoch 5/20\n",
      "7982/7982 [==============================] - 1s 108us/sample - loss: 1.1750 - accuracy: 0.6833 - val_loss: 1.4007 - val_accuracy: 0.6610\n",
      "Epoch 6/20\n",
      "7982/7982 [==============================] - 1s 123us/sample - loss: 1.0905 - accuracy: 0.7020 - val_loss: 1.4229 - val_accuracy: 0.6710\n",
      "Epoch 7/20\n",
      "7982/7982 [==============================] - 1s 126us/sample - loss: 1.0222 - accuracy: 0.7331 - val_loss: 1.3879 - val_accuracy: 0.6890\n",
      "Epoch 8/20\n",
      "7982/7982 [==============================] - 1s 126us/sample - loss: 0.9627 - accuracy: 0.7488 - val_loss: 1.4119 - val_accuracy: 0.6950\n",
      "Epoch 9/20\n",
      "7982/7982 [==============================] - 1s 125us/sample - loss: 0.9157 - accuracy: 0.7581 - val_loss: 1.4716 - val_accuracy: 0.6950\n",
      "Epoch 10/20\n",
      "7982/7982 [==============================] - 1s 130us/sample - loss: 0.8724 - accuracy: 0.7650 - val_loss: 1.5084 - val_accuracy: 0.6960\n",
      "Epoch 11/20\n",
      "7982/7982 [==============================] - 1s 125us/sample - loss: 0.8366 - accuracy: 0.7700 - val_loss: 1.4901 - val_accuracy: 0.7060\n",
      "Epoch 12/20\n",
      "7982/7982 [==============================] - 1s 116us/sample - loss: 0.8044 - accuracy: 0.7730 - val_loss: 1.5489 - val_accuracy: 0.6990\n",
      "Epoch 13/20\n",
      "7982/7982 [==============================] - 1s 121us/sample - loss: 0.7750 - accuracy: 0.7794 - val_loss: 1.5812 - val_accuracy: 0.6880\n",
      "Epoch 14/20\n",
      "7982/7982 [==============================] - 1s 115us/sample - loss: 0.7527 - accuracy: 0.7860 - val_loss: 1.6494 - val_accuracy: 0.6880\n",
      "Epoch 15/20\n",
      "7982/7982 [==============================] - 1s 116us/sample - loss: 0.7289 - accuracy: 0.7871 - val_loss: 1.6376 - val_accuracy: 0.6830\n",
      "Epoch 16/20\n",
      "7982/7982 [==============================] - 1s 110us/sample - loss: 0.7086 - accuracy: 0.7910 - val_loss: 1.7088 - val_accuracy: 0.6860\n",
      "Epoch 17/20\n",
      "7982/7982 [==============================] - 1s 112us/sample - loss: 0.6916 - accuracy: 0.7930 - val_loss: 1.7737 - val_accuracy: 0.6840\n",
      "Epoch 18/20\n",
      "7982/7982 [==============================] - 1s 131us/sample - loss: 0.6741 - accuracy: 0.7999 - val_loss: 1.8465 - val_accuracy: 0.6820\n",
      "Epoch 19/20\n",
      "7982/7982 [==============================] - 1s 110us/sample - loss: 0.6582 - accuracy: 0.8026 - val_loss: 1.8802 - val_accuracy: 0.6790\n",
      "Epoch 20/20\n",
      "7982/7982 [==============================] - 1s 121us/sample - loss: 0.6443 - accuracy: 0.8069 - val_loss: 1.8962 - val_accuracy: 0.6800\n"
     ]
    },
    {
     "data": {
      "text/plain": [
       "<tensorflow.python.keras.callbacks.History at 0x16f628b50>"
      ]
     },
     "execution_count": 48,
     "metadata": {},
     "output_type": "execute_result"
    }
   ],
   "source": [
    "model = models.Sequential()\n",
    "model.add(layers.Dense(64, activation='relu', input_shape=(10000,)))\n",
    "model.add(layers.Dense(4, activation='relu'))\n",
    "model.add(layers.Dense(46, activation='softmax'))\n",
    "\n",
    "model.compile(optimizer='rmsprop',\n",
    "              loss='categorical_crossentropy',\n",
    "              metrics=['accuracy'])\n",
    "\n",
    "model.fit(partial_x_train,\n",
    "          partial_y_train,\n",
    "          epochs=20,\n",
    "          batch_size=128,\n",
    "          validation_data=(x_val, y_val))"
   ]
  },
  {
   "cell_type": "markdown",
   "metadata": {},
   "source": [
    "看看这，这训练出来比之前 64 维的差的不是一点半点哈，差距相当明显了。\n",
    "\n",
    "发生这种效果的下降就是因为你给他学习的空间维度太低了，他把好多对分类有用的信息抛弃了。\n",
    "\n",
    "那是不是越大越好？我们再试试把中间层加大一些："
   ]
  },
  {
   "cell_type": "code",
   "execution_count": 51,
   "metadata": {},
   "outputs": [
    {
     "name": "stdout",
     "output_type": "stream",
     "text": [
      "Train on 7982 samples, validate on 1000 samples\n",
      "Epoch 1/20\n",
      "7982/7982 [==============================] - 2s 273us/sample - loss: 1.5523 - accuracy: 0.6310 - val_loss: 1.1903 - val_accuracy: 0.7060\n",
      "Epoch 2/20\n",
      "7982/7982 [==============================] - 2s 199us/sample - loss: 0.8298 - accuracy: 0.7989 - val_loss: 0.9731 - val_accuracy: 0.7680\n",
      "Epoch 3/20\n",
      "7982/7982 [==============================] - 2s 198us/sample - loss: 0.5107 - accuracy: 0.8690 - val_loss: 0.9504 - val_accuracy: 0.7970\n",
      "Epoch 4/20\n",
      "7982/7982 [==============================] - 2s 240us/sample - loss: 0.3316 - accuracy: 0.9171 - val_loss: 1.0471 - val_accuracy: 0.7960\n",
      "Epoch 5/20\n",
      "7982/7982 [==============================] - 2s 226us/sample - loss: 0.2283 - accuracy: 0.9426 - val_loss: 1.2169 - val_accuracy: 0.7830\n",
      "Epoch 6/20\n",
      "7982/7982 [==============================] - 2s 225us/sample - loss: 0.1798 - accuracy: 0.9508 - val_loss: 1.0565 - val_accuracy: 0.7950\n",
      "Epoch 7/20\n",
      "7982/7982 [==============================] - 2s 230us/sample - loss: 0.1593 - accuracy: 0.9519 - val_loss: 1.1892 - val_accuracy: 0.8120\n",
      "Epoch 8/20\n",
      "7982/7982 [==============================] - 2s 229us/sample - loss: 0.1447 - accuracy: 0.9533 - val_loss: 1.3179 - val_accuracy: 0.7920\n",
      "Epoch 9/20\n",
      "7982/7982 [==============================] - 2s 252us/sample - loss: 0.1233 - accuracy: 0.9541 - val_loss: 1.4439 - val_accuracy: 0.7950\n",
      "Epoch 10/20\n",
      "7982/7982 [==============================] - 2s 231us/sample - loss: 0.1181 - accuracy: 0.9550 - val_loss: 1.5400 - val_accuracy: 0.7870\n",
      "Epoch 11/20\n",
      "7982/7982 [==============================] - 2s 253us/sample - loss: 0.1054 - accuracy: 0.9563 - val_loss: 1.4753 - val_accuracy: 0.8050\n",
      "Epoch 12/20\n",
      "7982/7982 [==============================] - 2s 216us/sample - loss: 0.0962 - accuracy: 0.9579 - val_loss: 1.7876 - val_accuracy: 0.7980\n",
      "Epoch 13/20\n",
      "7982/7982 [==============================] - 2s 219us/sample - loss: 0.0884 - accuracy: 0.9582 - val_loss: 2.3222 - val_accuracy: 0.7920\n",
      "Epoch 14/20\n",
      "7982/7982 [==============================] - 2s 215us/sample - loss: 0.0865 - accuracy: 0.9590 - val_loss: 2.3396 - val_accuracy: 0.7890\n",
      "Epoch 15/20\n",
      "7982/7982 [==============================] - 2s 209us/sample - loss: 0.0816 - accuracy: 0.9575 - val_loss: 2.5229 - val_accuracy: 0.8030\n",
      "Epoch 16/20\n",
      "7982/7982 [==============================] - 2s 215us/sample - loss: 0.0776 - accuracy: 0.9582 - val_loss: 2.7763 - val_accuracy: 0.8040\n",
      "Epoch 17/20\n",
      "7982/7982 [==============================] - 2s 235us/sample - loss: 0.0774 - accuracy: 0.9599 - val_loss: 3.2820 - val_accuracy: 0.7930\n",
      "Epoch 18/20\n",
      "7982/7982 [==============================] - 2s 283us/sample - loss: 0.0750 - accuracy: 0.9594 - val_loss: 2.9734 - val_accuracy: 0.7920\n",
      "Epoch 19/20\n",
      "7982/7982 [==============================] - 2s 286us/sample - loss: 0.0705 - accuracy: 0.9608 - val_loss: 3.5735 - val_accuracy: 0.8020\n",
      "Epoch 20/20\n",
      "7982/7982 [==============================] - 2s 296us/sample - loss: 0.0697 - accuracy: 0.9605 - val_loss: 3.5296 - val_accuracy: 0.7850\n"
     ]
    },
    {
     "data": {
      "text/plain": [
       "<tensorflow.python.keras.callbacks.History at 0x1707fcf90>"
      ]
     },
     "execution_count": 51,
     "metadata": {},
     "output_type": "execute_result"
    }
   ],
   "source": [
    "model = models.Sequential()\n",
    "model.add(layers.Dense(64, activation='relu', input_shape=(10000,)))\n",
    "model.add(layers.Dense(4096, activation='relu'))\n",
    "model.add(layers.Dense(46, activation='softmax'))\n",
    "\n",
    "model.compile(optimizer='rmsprop',\n",
    "              loss='categorical_crossentropy',\n",
    "              metrics=['accuracy'])\n",
    "\n",
    "model.fit(partial_x_train,\n",
    "          partial_y_train,\n",
    "          epochs=20,\n",
    "          batch_size=128,\n",
    "          validation_data=(x_val, y_val))"
   ]
  },
  {
   "cell_type": "markdown",
   "metadata": {},
   "source": [
    "可以看到训练用的时间长了一点，电脑更暖手了一点，但效果却没有多大的提升。\n",
    "这是由于第一层输入到中间层的只有 64 维嘛，中间层再大，也被第一层的瓶颈制约了。\n",
    "\n",
    "在试试把第一层也加大！"
   ]
  },
  {
   "cell_type": "code",
   "execution_count": 54,
   "metadata": {},
   "outputs": [
    {
     "name": "stdout",
     "output_type": "stream",
     "text": [
      "Train on 7982 samples, validate on 1000 samples\n",
      "Epoch 1/20\n",
      "7982/7982 [==============================] - 5s 662us/sample - loss: 1.3423 - accuracy: 0.6913 - val_loss: 0.9565 - val_accuracy: 0.7920\n",
      "Epoch 2/20\n",
      "7982/7982 [==============================] - 5s 568us/sample - loss: 0.5307 - accuracy: 0.8805 - val_loss: 0.8447 - val_accuracy: 0.8110\n",
      "Epoch 3/20\n",
      "7982/7982 [==============================] - 5s 572us/sample - loss: 0.2874 - accuracy: 0.9296 - val_loss: 0.8745 - val_accuracy: 0.8050\n",
      "Epoch 4/20\n",
      "7982/7982 [==============================] - 5s 606us/sample - loss: 0.2037 - accuracy: 0.9469 - val_loss: 1.0001 - val_accuracy: 0.8100\n",
      "Epoch 5/20\n",
      "7982/7982 [==============================] - 5s 626us/sample - loss: 0.1651 - accuracy: 0.9510 - val_loss: 1.0603 - val_accuracy: 0.8160\n",
      "Epoch 6/20\n",
      "7982/7982 [==============================] - 5s 632us/sample - loss: 0.1443 - accuracy: 0.9530 - val_loss: 1.0834 - val_accuracy: 0.8070\n",
      "Epoch 7/20\n",
      "7982/7982 [==============================] - 5s 609us/sample - loss: 0.1236 - accuracy: 0.9546 - val_loss: 1.2685 - val_accuracy: 0.7930\n",
      "Epoch 8/20\n",
      "7982/7982 [==============================] - 5s 630us/sample - loss: 0.1118 - accuracy: 0.9548 - val_loss: 1.3627 - val_accuracy: 0.8150\n",
      "Epoch 9/20\n",
      "7982/7982 [==============================] - 5s 626us/sample - loss: 0.1017 - accuracy: 0.9548 - val_loss: 1.4645 - val_accuracy: 0.8110\n",
      "Epoch 10/20\n",
      "7982/7982 [==============================] - 5s 606us/sample - loss: 0.0902 - accuracy: 0.9577 - val_loss: 2.1303 - val_accuracy: 0.7970\n",
      "Epoch 11/20\n",
      "7982/7982 [==============================] - 5s 606us/sample - loss: 0.0860 - accuracy: 0.9568 - val_loss: 1.8165 - val_accuracy: 0.8140\n",
      "Epoch 12/20\n",
      "7982/7982 [==============================] - 5s 619us/sample - loss: 0.0826 - accuracy: 0.9555 - val_loss: 2.0934 - val_accuracy: 0.8110\n",
      "Epoch 13/20\n",
      "7982/7982 [==============================] - 5s 654us/sample - loss: 0.0783 - accuracy: 0.9559 - val_loss: 2.0084 - val_accuracy: 0.8070\n",
      "Epoch 14/20\n",
      "7982/7982 [==============================] - 5s 588us/sample - loss: 0.0735 - accuracy: 0.9575 - val_loss: 2.3992 - val_accuracy: 0.7990\n",
      "Epoch 15/20\n",
      "7982/7982 [==============================] - 5s 581us/sample - loss: 0.0726 - accuracy: 0.9584 - val_loss: 2.3328 - val_accuracy: 0.8060\n",
      "Epoch 16/20\n",
      "7982/7982 [==============================] - 5s 584us/sample - loss: 0.0704 - accuracy: 0.9579 - val_loss: 2.6106 - val_accuracy: 0.8010\n",
      "Epoch 17/20\n",
      "7982/7982 [==============================] - 5s 682us/sample - loss: 0.0680 - accuracy: 0.9584 - val_loss: 2.9384 - val_accuracy: 0.7960\n",
      "Epoch 18/20\n",
      "7982/7982 [==============================] - 5s 628us/sample - loss: 0.0719 - accuracy: 0.9580 - val_loss: 2.8365 - val_accuracy: 0.7990\n",
      "Epoch 19/20\n",
      "7982/7982 [==============================] - 5s 615us/sample - loss: 0.0699 - accuracy: 0.9583 - val_loss: 3.0514 - val_accuracy: 0.8030\n",
      "Epoch 20/20\n",
      "7982/7982 [==============================] - 5s 583us/sample - loss: 0.0648 - accuracy: 0.9597 - val_loss: 2.9887 - val_accuracy: 0.8030\n"
     ]
    },
    {
     "data": {
      "text/plain": [
       "<tensorflow.python.keras.callbacks.History at 0x176fbbd90>"
      ]
     },
     "execution_count": 54,
     "metadata": {},
     "output_type": "execute_result"
    }
   ],
   "source": [
    "model = models.Sequential()\n",
    "model.add(layers.Dense(512, activation='relu', input_shape=(10000,)))\n",
    "model.add(layers.Dense(512, activation='relu'))\n",
    "model.add(layers.Dense(46, activation='softmax'))\n",
    "\n",
    "model.compile(optimizer='rmsprop',\n",
    "              loss='categorical_crossentropy',\n",
    "              metrics=['accuracy'])\n",
    "\n",
    "model.fit(partial_x_train,\n",
    "          partial_y_train,\n",
    "          epochs=20,\n",
    "          batch_size=128,\n",
    "          validation_data=(x_val, y_val))"
   ]
  },
  {
   "cell_type": "markdown",
   "metadata": {},
   "source": [
    "（稍微小一点，本来是用 4096 的，但太大了，咱乞丐版 mbp 跑的贼慢，跑完要20多分钟，我懒得等）\n",
    "\n",
    "这个多浪费了好多时间，而且他很快就~~过泥河~~过拟合了，过得还过得很严重，画个图看一下："
   ]
  },
  {
   "cell_type": "code",
   "execution_count": 56,
   "metadata": {},
   "outputs": [
    {
     "data": {
      "image/png": "[encoded data removed]",
      "text/plain": [
       "<Figure size 432x288 with 1 Axes>"
      ]
     },
     "metadata": {
      "needs_background": "light"
     },
     "output_type": "display_data"
    }
   ],
   "source": [
    "import matplotlib.pyplot as plt\n",
    "\n",
    "loss = _.history['loss']\n",
    "val_loss = _.history['val_loss']\n",
    "epochs = range(1, len(loss) + 1)\n",
    "\n",
    "plt.plot(epochs, loss, 'bo-', label='Training loss')\n",
    "plt.plot(epochs, val_loss, 'rs-', label='Validation loss')\n",
    "plt.title('Training and validation loss')\n",
    "plt.xlabel('Epochs')\n",
    "plt.ylabel('Loss')\n",
    "plt.legend()\n",
    "plt.show()"
   ]
  },
  {
   "cell_type": "markdown",
   "metadata": {},
   "source": [
    "所以，太大了也不好。还是要有个度！"
   ]
  },
  {
   "cell_type": "markdown",
   "metadata": {},
   "source": [
    "### 尝试使用更少/更多的层\n",
    "\n",
    "1. 更少的层"
   ]
  },
  {
   "cell_type": "code",
   "execution_count": 58,
   "metadata": {},
   "outputs": [
    {
     "name": "stdout",
     "output_type": "stream",
     "text": [
      "Train on 7982 samples, validate on 1000 samples\n",
      "Epoch 1/20\n",
      "7982/7982 [==============================] - 1s 132us/sample - loss: 2.4611 - accuracy: 0.6001 - val_loss: 1.8556 - val_accuracy: 0.6440\n",
      "Epoch 2/20\n",
      "7982/7982 [==============================] - 1s 84us/sample - loss: 1.4246 - accuracy: 0.7150 - val_loss: 1.3749 - val_accuracy: 0.7130\n",
      "Epoch 3/20\n",
      "7982/7982 [==============================] - 1s 80us/sample - loss: 0.9778 - accuracy: 0.7920 - val_loss: 1.1532 - val_accuracy: 0.7590\n",
      "Epoch 4/20\n",
      "7982/7982 [==============================] - 1s 92us/sample - loss: 0.7302 - accuracy: 0.8507 - val_loss: 1.0373 - val_accuracy: 0.7870\n",
      "Epoch 5/20\n",
      "7982/7982 [==============================] - 1s 81us/sample - loss: 0.5789 - accuracy: 0.8819 - val_loss: 0.9836 - val_accuracy: 0.7960\n",
      "Epoch 6/20\n",
      "7982/7982 [==============================] - 1s 82us/sample - loss: 0.4793 - accuracy: 0.9039 - val_loss: 0.9633 - val_accuracy: 0.8030\n",
      "Epoch 7/20\n",
      "7982/7982 [==============================] - 1s 84us/sample - loss: 0.4093 - accuracy: 0.9166 - val_loss: 0.9530 - val_accuracy: 0.8040\n",
      "Epoch 8/20\n",
      "7982/7982 [==============================] - 1s 83us/sample - loss: 0.3582 - accuracy: 0.9260 - val_loss: 0.9592 - val_accuracy: 0.8020\n",
      "Epoch 9/20\n",
      "7982/7982 [==============================] - 1s 83us/sample - loss: 0.3187 - accuracy: 0.9330 - val_loss: 0.9673 - val_accuracy: 0.8030\n",
      "Epoch 10/20\n",
      "7982/7982 [==============================] - 1s 91us/sample - loss: 0.2863 - accuracy: 0.9375 - val_loss: 0.9847 - val_accuracy: 0.7990\n",
      "Epoch 11/20\n",
      "7982/7982 [==============================] - 1s 85us/sample - loss: 0.2615 - accuracy: 0.9419 - val_loss: 1.0026 - val_accuracy: 0.8030\n",
      "Epoch 12/20\n",
      "7982/7982 [==============================] - 1s 84us/sample - loss: 0.2401 - accuracy: 0.9448 - val_loss: 1.0276 - val_accuracy: 0.7960\n",
      "Epoch 13/20\n",
      "7982/7982 [==============================] - 1s 94us/sample - loss: 0.2222 - accuracy: 0.9464 - val_loss: 1.0405 - val_accuracy: 0.7970\n",
      "Epoch 14/20\n",
      "7982/7982 [==============================] - 1s 86us/sample - loss: 0.2071 - accuracy: 0.9493 - val_loss: 1.0713 - val_accuracy: 0.7980\n",
      "Epoch 15/20\n",
      "7982/7982 [==============================] - 1s 98us/sample - loss: 0.1937 - accuracy: 0.9509 - val_loss: 1.0946 - val_accuracy: 0.7950\n",
      "Epoch 16/20\n",
      "7982/7982 [==============================] - 1s 85us/sample - loss: 0.1822 - accuracy: 0.9523 - val_loss: 1.1140 - val_accuracy: 0.7990\n",
      "Epoch 17/20\n",
      "7982/7982 [==============================] - 1s 84us/sample - loss: 0.1723 - accuracy: 0.9528 - val_loss: 1.1351 - val_accuracy: 0.7990\n",
      "Epoch 18/20\n",
      "7982/7982 [==============================] - 1s 91us/sample - loss: 0.1636 - accuracy: 0.9550 - val_loss: 1.1592 - val_accuracy: 0.7980\n",
      "Epoch 19/20\n",
      "7982/7982 [==============================] - 1s 86us/sample - loss: 0.1555 - accuracy: 0.9545 - val_loss: 1.1844 - val_accuracy: 0.7960\n",
      "Epoch 20/20\n",
      "7982/7982 [==============================] - 1s 85us/sample - loss: 0.1485 - accuracy: 0.9570 - val_loss: 1.2116 - val_accuracy: 0.7960\n"
     ]
    },
    {
     "data": {
      "image/png": "[encoded data removed]",
      "text/plain": [
       "<Figure size 432x288 with 1 Axes>"
      ]
     },
     "metadata": {
      "needs_background": "light"
     },
     "output_type": "display_data"
    }
   ],
   "source": [
    "model = models.Sequential()\n",
    "model.add(layers.Dense(46, activation='softmax', input_shape=(10000,)))\n",
    "\n",
    "model.compile(optimizer='rmsprop',\n",
    "              loss='categorical_crossentropy',\n",
    "              metrics=['accuracy'])\n",
    "\n",
    "history = model.fit(partial_x_train,\n",
    "          partial_y_train,\n",
    "          epochs=20,\n",
    "          batch_size=128,\n",
    "          validation_data=(x_val, y_val))\n",
    "\n",
    "loss = history.history['loss']\n",
    "val_loss = history.history['val_loss']\n",
    "epochs = range(1, len(loss) + 1)\n",
    "\n",
    "plt.plot(epochs, loss, 'bo-', label='Training loss')\n",
    "plt.plot(epochs, val_loss, 'rs-', label='Validation loss')\n",
    "plt.title('Training and validation loss')\n",
    "plt.xlabel('Epochs')\n",
    "plt.ylabel('Loss')\n",
    "plt.legend()\n",
    "plt.show()"
   ]
  },
  {
   "cell_type": "markdown",
   "metadata": {},
   "source": [
    "快呀！结果稍微差了一点点。"
   ]
  },
  {
   "cell_type": "markdown",
   "metadata": {},
   "source": [
    "2. 更多的层"
   ]
  },
  {
   "cell_type": "code",
   "execution_count": 60,
   "metadata": {},
   "outputs": [
    {
     "name": "stdout",
     "output_type": "stream",
     "text": [
      "Train on 7982 samples, validate on 1000 samples\n",
      "Epoch 1/20\n",
      "7982/7982 [==============================] - 2s 188us/sample - loss: 1.8340 - accuracy: 0.5829 - val_loss: 1.3336 - val_accuracy: 0.6910\n",
      "Epoch 2/20\n",
      "7982/7982 [==============================] - 1s 102us/sample - loss: 1.0614 - accuracy: 0.7474 - val_loss: 1.1008 - val_accuracy: 0.7410\n",
      "Epoch 3/20\n",
      "7982/7982 [==============================] - 1s 97us/sample - loss: 0.7493 - accuracy: 0.8187 - val_loss: 1.1316 - val_accuracy: 0.7480\n",
      "Epoch 4/20\n",
      "7982/7982 [==============================] - 1s 101us/sample - loss: 0.5266 - accuracy: 0.8746 - val_loss: 1.0384 - val_accuracy: 0.7820\n",
      "Epoch 5/20\n",
      "7982/7982 [==============================] - 1s 102us/sample - loss: 0.3736 - accuracy: 0.9148 - val_loss: 1.1101 - val_accuracy: 0.7850\n",
      "Epoch 6/20\n",
      "7982/7982 [==============================] - 1s 100us/sample - loss: 0.2796 - accuracy: 0.9364 - val_loss: 1.3736 - val_accuracy: 0.7520\n",
      "Epoch 7/20\n",
      "7982/7982 [==============================] - 1s 110us/sample - loss: 0.2262 - accuracy: 0.9455 - val_loss: 1.2533 - val_accuracy: 0.7610\n",
      "Epoch 8/20\n",
      "7982/7982 [==============================] - 1s 101us/sample - loss: 0.1931 - accuracy: 0.9521 - val_loss: 1.3106 - val_accuracy: 0.7890\n",
      "Epoch 9/20\n",
      "7982/7982 [==============================] - 1s 105us/sample - loss: 0.1724 - accuracy: 0.9518 - val_loss: 1.2763 - val_accuracy: 0.7960\n",
      "Epoch 10/20\n",
      "7982/7982 [==============================] - 1s 102us/sample - loss: 0.1528 - accuracy: 0.9541 - val_loss: 1.2890 - val_accuracy: 0.7900\n",
      "Epoch 11/20\n",
      "7982/7982 [==============================] - 1s 119us/sample - loss: 0.1395 - accuracy: 0.9539 - val_loss: 1.4290 - val_accuracy: 0.7810\n",
      "Epoch 12/20\n",
      "7982/7982 [==============================] - 1s 107us/sample - loss: 0.1323 - accuracy: 0.9562 - val_loss: 1.4995 - val_accuracy: 0.7790\n",
      "Epoch 13/20\n",
      "7982/7982 [==============================] - 1s 111us/sample - loss: 0.1256 - accuracy: 0.9551 - val_loss: 1.3570 - val_accuracy: 0.7740\n",
      "Epoch 14/20\n",
      "7982/7982 [==============================] - 1s 105us/sample - loss: 0.1163 - accuracy: 0.9551 - val_loss: 1.4389 - val_accuracy: 0.7840\n",
      "Epoch 15/20\n",
      "7982/7982 [==============================] - 1s 119us/sample - loss: 0.1073 - accuracy: 0.9580 - val_loss: 1.6113 - val_accuracy: 0.7770\n",
      "Epoch 16/20\n",
      "7982/7982 [==============================] - 1s 104us/sample - loss: 0.1059 - accuracy: 0.9592 - val_loss: 1.6268 - val_accuracy: 0.7740\n",
      "Epoch 17/20\n",
      "7982/7982 [==============================] - 1s 105us/sample - loss: 0.1040 - accuracy: 0.9570 - val_loss: 1.5482 - val_accuracy: 0.7850\n",
      "Epoch 18/20\n",
      "7982/7982 [==============================] - 1s 123us/sample - loss: 0.0982 - accuracy: 0.9577 - val_loss: 1.6619 - val_accuracy: 0.7930\n",
      "Epoch 19/20\n",
      "7982/7982 [==============================] - 1s 116us/sample - loss: 0.0973 - accuracy: 0.9569 - val_loss: 1.6014 - val_accuracy: 0.7860\n",
      "Epoch 20/20\n",
      "7982/7982 [==============================] - 1s 115us/sample - loss: 0.0891 - accuracy: 0.9600 - val_loss: 1.7227 - val_accuracy: 0.7900\n"
     ]
    },
    {
     "data": {
      "image/png": "[encoded data removed]",
      "text/plain": [
       "<Figure size 432x288 with 1 Axes>"
      ]
     },
     "metadata": {
      "needs_background": "light"
     },
     "output_type": "display_data"
    }
   ],
   "source": [
    "model = models.Sequential()\n",
    "model.add(layers.Dense(64, activation='relu', input_shape=(10000,)))\n",
    "model.add(layers.Dense(64, activation='relu'))\n",
    "model.add(layers.Dense(64, activation='relu'))\n",
    "model.add(layers.Dense(64, activation='relu'))\n",
    "model.add(layers.Dense(46, activation='softmax'))\n",
    "\n",
    "model.compile(optimizer='rmsprop',\n",
    "              loss='categorical_crossentropy',\n",
    "              metrics=['accuracy'])\n",
    "\n",
    "history = model.fit(partial_x_train,\n",
    "          partial_y_train,\n",
    "          epochs=20,\n",
    "          batch_size=128,\n",
    "          validation_data=(x_val, y_val))\n",
    "\n",
    "loss = history.history['loss']\n",
    "val_loss = history.history['val_loss']\n",
    "epochs = range(1, len(loss) + 1)\n",
    "\n",
    "plt.plot(epochs, loss, 'bo-', label='Training loss')\n",
    "plt.plot(epochs, val_loss, 'rs-', label='Validation loss')\n",
    "plt.title('Training and validation loss')\n",
    "plt.xlabel('Epochs')\n",
    "plt.ylabel('Loss')\n",
    "plt.legend()\n",
    "plt.show()"
   ]
  },
  {
   "cell_type": "markdown",
   "metadata": {},
   "source": [
    "所以，这个也不是越多越好呀！"
   ]
  },
  {
   "cell_type": "code",
   "execution_count": null,
   "metadata": {},
   "outputs": [],
   "source": []
  }
 ],
 "metadata": {
  "kernelspec": {
   "display_name": "Python 3",
   "language": "python",
   "name": "python3"
  },
  "language_info": {
   "codemirror_mode": {
    "name": "ipython",
    "version": 3
   },
   "file_extension": ".py",
   "mimetype": "text/x-python",
   "name": "python",
   "nbconvert_exporter": "python",
   "pygments_lexer": "ipython3",
   "version": "3.7.6"
  }
 },
 "nbformat": 4,
 "nbformat_minor": 4
}
