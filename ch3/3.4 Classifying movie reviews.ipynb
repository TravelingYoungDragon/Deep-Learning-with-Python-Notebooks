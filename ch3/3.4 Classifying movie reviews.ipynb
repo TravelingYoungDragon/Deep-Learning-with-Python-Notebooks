{
 "cells": [
  {
   "cell_type": "markdown",
   "metadata": {},
   "source": [
    "# Deep Learning with Python\n",
    "\n",
    "## 3.4 Classifying movie reviews: a binary classification example\n",
    "\n",
    "> 电影评论分类:二分类问题\n",
    "\n",
    "[原文链接](https://livebook.manning.com/book/deep-learning-with-python/chapter-3/101)\n",
    "\n",
    "### IMDB 数据集\n",
    "\n",
    "IMDB 数据集里是 50,000 条电影评论。一半是训练集，一半是测试集。\n",
    "数据里 50% 是积极评价，50% 是消极评价。\n",
    "\n",
    "Keras 内置了做过预处理的 IMDB 数据集，把单词序列转化成了整数序列（一个数字对应字典里的词）："
   ]
  },
  {
   "cell_type": "code",
   "execution_count": 1,
   "metadata": {},
   "outputs": [],
   "source": [
    "from tensorflow.keras.datasets import imdb\n",
    "\n",
    "# 数据集\n",
    "(train_data, train_labels), (test_data, test_labels) = imdb.load_data(\n",
    "    num_words=10000)"
   ]
  },
  {
   "cell_type": "markdown",
   "metadata": {},
   "source": [
    "`num_words=10000` 是只保留出现频率前 10000 的单词。\n",
    "\n",
    "先来随便看一条评论，这是条好评："
   ]
  },
  {
   "cell_type": "code",
   "execution_count": 2,
   "metadata": {},
   "outputs": [
    {
     "name": "stdout",
     "output_type": "stream",
     "text": [
      "1: the as you with out themselves powerful lets loves their becomes reaching had journalist of lot from anyone to have after out atmosphere never more room and it so heart shows to years of every never going and help moments or of every chest visual movie except her was several of enough more with is now current film as you of mine potentially unfortunately of you than him that with out themselves her get for was camp of you movie sometimes movie that with scary but and to story wonderful that in seeing in character to of 70s musicians with heart had shadows they of here that with her serious to have does when from why what have critics they is you that isn't one will very to as itself with other and in of seen over landed for anyone of and br show's to whether from than out themselves history he name half some br of and odd was two most of mean for 1 any an boat she he should is thought frog but of script you not while history he heart to real at barrel but when from one bit then have two of script their with her nobody most that with wasn't to with armed acting watch an for with heartfelt film want an\n"
     ]
    }
   ],
   "source": [
    "# 字典\n",
    "index_word = {v: k for k, v in imdb.get_word_index().items()}\n",
    "\n",
    "# 还原一条评论看看\n",
    "text = ' '.join([index_word[i] for i in train_data[0]])\n",
    "\n",
    "print(f\"{train_labels[0]}:\", text)"
   ]
  },
  {
   "cell_type": "markdown",
   "metadata": {},
   "source": [
    "### 数据准备\n",
    "\n",
    "先看一下 train_data 现在的形状："
   ]
  },
  {
   "cell_type": "code",
   "execution_count": 3,
   "metadata": {},
   "outputs": [
    {
     "data": {
      "text/plain": [
       "(25000,)"
      ]
     },
     "execution_count": 3,
     "metadata": {},
     "output_type": "execute_result"
    }
   ],
   "source": [
    "train_data.shape"
   ]
  },
  {
   "cell_type": "markdown",
   "metadata": {},
   "source": [
    "我们要把它变成 `(samples, word_indices)` 的样子，大概是下面这种：\n",
    "\n",
    "```\n",
    "[[0, 0, ..., 1, ..., 0, ..., 1],\n",
    " [0, 1, ..., 0, ..., 1, ..., 0],\n",
    " ...\n",
    "]\n",
    "```\n",
    "\n",
    "有这个词就是 1，没有就是 0。"
   ]
  },
  {
   "cell_type": "code",
   "execution_count": 4,
   "metadata": {},
   "outputs": [],
   "source": [
    "import numpy as np\n",
    "\n",
    "def vectorize_sequences(sequences, dimension=10000):\n",
    "    results = np.zeros((len(sequences), dimension))\n",
    "    for i, sequence in enumerate(sequences):\n",
    "        results[i, sequence] = 1.\n",
    "    return results\n",
    "\n",
    "x_train = vectorize_sequences(train_data)\n",
    "x_test = vectorize_sequences(test_data)\n"
   ]
  },
  {
   "cell_type": "code",
   "execution_count": 5,
   "metadata": {},
   "outputs": [
    {
     "data": {
      "text/plain": [
       "array([[0., 1., 1., ..., 0., 0., 0.],\n",
       "       [0., 1., 1., ..., 0., 0., 0.],\n",
       "       [0., 1., 1., ..., 0., 0., 0.],\n",
       "       ...,\n",
       "       [0., 1., 1., ..., 0., 0., 0.],\n",
       "       [0., 1., 1., ..., 0., 0., 0.],\n",
       "       [0., 1., 1., ..., 0., 0., 0.]])"
      ]
     },
     "execution_count": 5,
     "metadata": {},
     "output_type": "execute_result"
    }
   ],
   "source": [
    "x_train"
   ]
  },
  {
   "cell_type": "markdown",
   "metadata": {},
   "source": [
    "labels 也随便搞一下："
   ]
  },
  {
   "cell_type": "code",
   "execution_count": 6,
   "metadata": {},
   "outputs": [
    {
     "data": {
      "text/plain": [
       "array([1, 0, 0, ..., 0, 1, 0])"
      ]
     },
     "execution_count": 6,
     "metadata": {},
     "output_type": "execute_result"
    }
   ],
   "source": [
    "train_labels"
   ]
  },
  {
   "cell_type": "code",
   "execution_count": 7,
   "metadata": {},
   "outputs": [],
   "source": [
    "y_train = np.asarray(train_labels).astype('float32')\n",
    "y_test = np.asarray(test_labels).astype('float32')"
   ]
  },
  {
   "cell_type": "code",
   "execution_count": 8,
   "metadata": {},
   "outputs": [
    {
     "data": {
      "text/plain": [
       "array([1., 0., 0., ..., 0., 1., 0.], dtype=float32)"
      ]
     },
     "execution_count": 8,
     "metadata": {},
     "output_type": "execute_result"
    }
   ],
   "source": [
    "y_train"
   ]
  },
  {
   "cell_type": "markdown",
   "metadata": {},
   "source": [
    "现在这些数据就可以安全投喂我们一会儿建的神经网络了。"
   ]
  },
  {
   "cell_type": "markdown",
   "metadata": {},
   "source": [
    "### 建立网络\n",
    "\n",
    "对于这种输入是向量、标签是标量（甚至是 0 或 1）的问题：\n",
    "使用 relu 激活的 Dense (全连接)堆起来的网络：\n",
    "\n",
    "```python\n",
    "Dense(16, activation='relu')\n",
    "```\n",
    "\n",
    "这种层的作用是 `output = relu(dot(W, input) + b)`。\n",
    "\n",
    "16 是每层里隐藏单元(hidden unit)的个数。一个 hidden unit 就是在这层的表示空间里的一个维度。\n",
    "W 的形状也是 `(input_dimension, 16)`，dot 出来就是个 16 维的向量，也就把数据投影到了 16 维的表示空间。\n",
    "\n",
    "这个维度 (hidden unit 的数量) 可以看成对网络学习的自由度的控制。\n",
    "维度越高，能学的东西越复杂，但计算消耗也越大，而且可能学到一些不重要的东西导致过拟合。\n",
    "\n",
    "这里，我们将使用两层这种16个隐藏单元的层，\n",
    "最后还有一个 sigmoid 激活的层来输出结果（在$[0, 1]$内的值），\n",
    "这个结果表示预测有多可能这个数据的标签是1，即一条好评。\n",
    "\n",
    "relu 是过滤掉负值（把输入的负值输出成0），sigmoid 是把值投到 `[0, 1]`：\n",
    "\n",
    "![relu and sigmoid](https://tva1.sinaimg.cn/large/007S8ZIlgy1ge8cohvw31j31hi0lu49o.jpg)\n",
    "\n",
    "在 Keras 中实现这个网络："
   ]
  },
  {
   "cell_type": "code",
   "execution_count": 9,
   "metadata": {},
   "outputs": [],
   "source": [
    "from tensorflow.keras import models\n",
    "from tensorflow.keras import layers\n",
    "\n",
    "model = models.Sequential()\n",
    "model.add(layers.Dense(16, activation='relu', input_shape=(10000, )))\n",
    "model.add(layers.Dense(16, activation='relu'))\n",
    "model.add(layers.Dense(1, activation='sigmoid'))"
   ]
  },
  {
   "cell_type": "markdown",
   "metadata": {},
   "source": [
    "#### 激活函数的作用\n",
    "\n",
    "我们之前在 MNIST 里用过 relu 激活函数，所以*激活函数*到底是干嘛的？\n",
    "\n",
    "一个没有激活函数的 Dense 层的作用只是一个线性变换：\n",
    "\n",
    "```\n",
    "output = dot(W, input) + b\n",
    "```\n",
    "\n",
    "如果每一层都是这种线性变换，把多个这种层叠在一起，假设空间并不会变大，所以能学到的东西很有限。\n",
    "\n",
    "而激活函数就是在 `dot(W, input) + b` 外面套的一个函数，比如 relu 激活是 `output = relu(dot(W, input) + b)`。\n",
    "利用这种激活函数，可以拓展表示空间，也就可以让网络学习到更复杂的“知识”。"
   ]
  },
  {
   "cell_type": "markdown",
   "metadata": {},
   "source": [
    "### 编译模型\n",
    "\n",
    "编译模型时，我们还需要选择损失函数、优化器和指标。\n",
    "\n",
    "对这种最后输出 0 或 1 的二元分类问题，损失函数可以使用 `binary_crossentropy`(从名字就可以看得出来很合适啦)。\n",
    "\n",
    "这个 *crossentropy* 中文叫交叉熵，是信息论里的，是用来衡量概率分布直接的距离的。\n",
    "所以输出概率的模型经常是用这种 crossentropy 做损失的。\n",
    "\n",
    "至于优化器，和 MNIST 一样，我们用 `rmsprop` （书里还没写为什么），指标也还是准确度："
   ]
  },
  {
   "cell_type": "code",
   "execution_count": 10,
   "metadata": {},
   "outputs": [],
   "source": [
    "model.compile(optimizer='rmsprop',\n",
    "              loss='binary_crossentropy',\n",
    "              metrics=['accuracy'])"
   ]
  },
  {
   "cell_type": "markdown",
   "metadata": {},
   "source": [
    "因为这几个optimizer、loss、metrics 都是常用的，所以 Keras 内置了，可以直接传字符串。\n",
    "但也可以传类实例来定制一些参数："
   ]
  },
  {
   "cell_type": "code",
   "execution_count": 11,
   "metadata": {},
   "outputs": [],
   "source": [
    "from tensorflow.keras import optimizers\n",
    "from tensorflow.keras import losses\n",
    "from tensorflow.keras import metrics\n",
    "\n",
    "model.compile(optimizer=optimizers.RMSprop(lr=0.001),\n",
    "              loss=losses.binary_crossentropy,\n",
    "              metrics=[metrics.binary_accuracy])"
   ]
  },
  {
   "cell_type": "markdown",
   "metadata": {},
   "source": [
    "### 训练模型\n",
    "\n",
    "为了在训练的过程中验证模型在它没见过的数据上精度如何，我们从原来的训练数据里分 10,000 个样本出来："
   ]
  },
  {
   "cell_type": "code",
   "execution_count": 12,
   "metadata": {},
   "outputs": [],
   "source": [
    "x_val = x_train[:10000]\n",
    "partial_x_train = x_train[10000:]\n",
    "\n",
    "y_val = y_train[:10000]\n",
    "partial_y_train = y_train[10000:]"
   ]
  },
  {
   "cell_type": "markdown",
   "metadata": {},
   "source": [
    "用一批 512 个样本的 mini-batches，跑 20 轮（所有x_train里的数据跑一遍算一轮），\n",
    "并用刚分出来的 10,000 的样本做精度验证："
   ]
  },
  {
   "cell_type": "code",
   "execution_count": 13,
   "metadata": {},
   "outputs": [
    {
     "name": "stdout",
     "output_type": "stream",
     "text": [
      "Train on 15000 samples, validate on 10000 samples\n",
      "Epoch 1/20\n",
      "15000/15000 [==============================] - 3s 205us/sample - loss: 0.5340 - acc: 0.7867 - val_loss: 0.4386 - val_acc: 0.8340\n",
      "Epoch 2/20\n",
      "15000/15000 [==============================] - 1s 65us/sample - loss: 0.3289 - acc: 0.8997 - val_loss: 0.3309 - val_acc: 0.8740\n",
      "Epoch 3/20\n",
      "15000/15000 [==============================] - 1s 63us/sample - loss: 0.2416 - acc: 0.9193 - val_loss: 0.2870 - val_acc: 0.8884\n",
      "Epoch 4/20\n",
      "15000/15000 [==============================] - 1s 64us/sample - loss: 0.1872 - acc: 0.9397 - val_loss: 0.2768 - val_acc: 0.8888\n",
      "Epoch 5/20\n",
      "15000/15000 [==============================] - 1s 63us/sample - loss: 0.1541 - acc: 0.9491 - val_loss: 0.3001 - val_acc: 0.8816\n",
      "Epoch 6/20\n",
      "15000/15000 [==============================] - 1s 63us/sample - loss: 0.1261 - acc: 0.9606 - val_loss: 0.3043 - val_acc: 0.8807\n",
      "Epoch 7/20\n",
      "15000/15000 [==============================] - 1s 63us/sample - loss: 0.1036 - acc: 0.9677 - val_loss: 0.3018 - val_acc: 0.8841\n",
      "Epoch 8/20\n",
      "15000/15000 [==============================] - 1s 63us/sample - loss: 0.0858 - acc: 0.9742 - val_loss: 0.3192 - val_acc: 0.8822\n",
      "Epoch 9/20\n",
      "15000/15000 [==============================] - 1s 63us/sample - loss: 0.0698 - acc: 0.9823 - val_loss: 0.3671 - val_acc: 0.8740\n",
      "Epoch 10/20\n",
      "15000/15000 [==============================] - 1s 63us/sample - loss: 0.0564 - acc: 0.9859 - val_loss: 0.3704 - val_acc: 0.8796\n",
      "Epoch 11/20\n",
      "15000/15000 [==============================] - 1s 81us/sample - loss: 0.0458 - acc: 0.9897 - val_loss: 0.4028 - val_acc: 0.8754\n",
      "Epoch 12/20\n",
      "15000/15000 [==============================] - 1s 72us/sample - loss: 0.0366 - acc: 0.9923 - val_loss: 0.4271 - val_acc: 0.8739\n",
      "Epoch 13/20\n",
      "15000/15000 [==============================] - 1s 68us/sample - loss: 0.0286 - acc: 0.9945 - val_loss: 0.5084 - val_acc: 0.8619\n",
      "Epoch 14/20\n",
      "15000/15000 [==============================] - 1s 62us/sample - loss: 0.0220 - acc: 0.9969 - val_loss: 0.5154 - val_acc: 0.8685\n",
      "Epoch 15/20\n",
      "15000/15000 [==============================] - 1s 62us/sample - loss: 0.0174 - acc: 0.9976 - val_loss: 0.5238 - val_acc: 0.8711\n",
      "Epoch 16/20\n",
      "15000/15000 [==============================] - 1s 64us/sample - loss: 0.0128 - acc: 0.9989 - val_loss: 0.5572 - val_acc: 0.8699\n",
      "Epoch 17/20\n",
      "15000/15000 [==============================] - 1s 63us/sample - loss: 0.0112 - acc: 0.9987 - val_loss: 0.5970 - val_acc: 0.8688\n",
      "Epoch 18/20\n",
      "15000/15000 [==============================] - 1s 62us/sample - loss: 0.0071 - acc: 0.9993 - val_loss: 0.7029 - val_acc: 0.8566\n",
      "Epoch 19/20\n",
      "15000/15000 [==============================] - 1s 66us/sample - loss: 0.0046 - acc: 0.9998 - val_loss: 0.6703 - val_acc: 0.8670\n",
      "Epoch 20/20\n",
      "15000/15000 [==============================] - 1s 74us/sample - loss: 0.0053 - acc: 0.9995 - val_loss: 0.7030 - val_acc: 0.8675\n"
     ]
    }
   ],
   "source": [
    "model.compile(optimizer='rmsprop',\n",
    "              loss='binary_crossentropy',\n",
    "              metrics=['acc'])\n",
    "\n",
    "history = model.fit(partial_x_train,\n",
    "                    partial_y_train,\n",
    "                    epochs=20,\n",
    "                    batch_size=512,\n",
    "                    validation_data=(x_val, y_val))"
   ]
  },
  {
   "cell_type": "markdown",
   "metadata": {},
   "source": [
    "`fit` 阔以返回 history，里面保存了训练过程里每个 Epoch 的黑历史："
   ]
  },
  {
   "cell_type": "code",
   "execution_count": 14,
   "metadata": {},
   "outputs": [
    {
     "data": {
      "text/plain": [
       "dict_keys(['loss', 'acc', 'val_loss', 'val_acc'])"
      ]
     },
     "execution_count": 14,
     "metadata": {},
     "output_type": "execute_result"
    }
   ],
   "source": [
    "history_dict = history.history\n",
    "history_dict.keys()"
   ]
  },
  {
   "cell_type": "markdown",
   "metadata": {},
   "source": [
    "我们可以把这些东西画图出来看："
   ]
  },
  {
   "cell_type": "code",
   "execution_count": 15,
   "metadata": {},
   "outputs": [
    {
     "data": {
      "image/png": "[encoded data removed]",
      "text/plain": [
       "<Figure size 432x288 with 1 Axes>"
      ]
     },
     "metadata": {
      "needs_background": "light"
     },
     "output_type": "display_data"
    }
   ],
   "source": [
    "# 画训练和验证的损失\n",
    "\n",
    "import matplotlib.pyplot as plt\n",
    "\n",
    "history_dict = history.history\n",
    "loss_values = history_dict['loss']\n",
    "val_loss_values = history_dict['val_loss']\n",
    "\n",
    "epochs = range(1, len(loss_values) + 1)\n",
    "\n",
    "plt.plot(epochs, loss_values, 'ro-', label='Training loss')\n",
    "plt.plot(epochs, val_loss_values, 'bs-', label='Validation loss')\n",
    "plt.title('Training and validation loss')\n",
    "plt.xlabel('Epochs')\n",
    "plt.ylabel('Loss')\n",
    "plt.legend()\n",
    "\n",
    "plt.show()"
   ]
  },
  {
   "cell_type": "code",
   "execution_count": 16,
   "metadata": {},
   "outputs": [
    {
     "data": {
      "image/png": "[encoded data removed]",
      "text/plain": [
       "<Figure size 432x288 with 1 Axes>"
      ]
     },
     "metadata": {
      "needs_background": "light"
     },
     "output_type": "display_data"
    }
   ],
   "source": [
    "# 画训练和验证的准确度\n",
    "\n",
    "plt.clf()\n",
    "\n",
    "acc = history_dict['acc']\n",
    "val_acc = history_dict['val_acc']\n",
    "\n",
    "plt.plot(epochs, acc, 'ro-', label='Training acc')\n",
    "plt.plot(epochs, val_acc, 'bs-', label='Validation acc')\n",
    "plt.title('Training and validation accuracy')\n",
    "plt.xlabel('Epochs')\n",
    "plt.ylabel('Loss')\n",
    "plt.legend()\n",
    "\n",
    "plt.show()"
   ]
  },
  {
   "cell_type": "markdown",
   "metadata": {},
   "source": [
    "我们可以看到，训练集上的精度倒是一直在增（损失一直减），\n",
    "但在验证集上，到了后面损失反而大了，差不多第4轮左右就到最好的峰值了。\n",
    "\n",
    "这就是过拟合了，其实从第二轮开始就开始过了。所以，我们其实跑个3、4轮就 ok 了。\n",
    "要是再跑下去，咱的模型就只“精通”训练集，不认识其他没见过的数据了。\n",
    "\n",
    "所以，我们重新训练一个模型（要从建立网络开始重写，不然fit是接着刚才已经进行过的这些），那去用测试集测试："
   ]
  },
  {
   "cell_type": "code",
   "execution_count": 17,
   "metadata": {},
   "outputs": [
    {
     "name": "stdout",
     "output_type": "stream",
     "text": [
      "Train on 25000 samples\n",
      "Epoch 1/4\n",
      "25000/25000 [==============================] - 2s 69us/sample - loss: 0.4829 - accuracy: 0.8179\n",
      "Epoch 2/4\n",
      "25000/25000 [==============================] - 1s 42us/sample - loss: 0.2827 - accuracy: 0.9054\n",
      "Epoch 3/4\n",
      "25000/25000 [==============================] - 1s 42us/sample - loss: 0.2109 - accuracy: 0.9253\n",
      "Epoch 4/4\n",
      "25000/25000 [==============================] - 1s 43us/sample - loss: 0.1750 - accuracy: 0.9380\n",
      "25000/1 - 3s - loss: 0.2819 - accuracy: 0.8836\n"
     ]
    }
   ],
   "source": [
    "model = models.Sequential()\n",
    "model.add(layers.Dense(16, activation='relu', input_shape=(10000, )))\n",
    "model.add(layers.Dense(16, activation='relu'))\n",
    "model.add(layers.Dense(1, activation='sigmoid'))\n",
    "\n",
    "model.compile(optimizer='rmsprop',\n",
    "             loss='binary_crossentropy',\n",
    "             metrics=['accuracy'])\n",
    "\n",
    "model.fit(x_train, y_train, epochs=4, batch_size=512)\n",
    "result = model.evaluate(x_test, y_test, verbose=2)    # verbose=2 to avoid a looooong progress bar that fills the screen with '='. https://github.com/tensorflow/tensorflow/issues/32286"
   ]
  },
  {
   "cell_type": "code",
   "execution_count": 18,
   "metadata": {},
   "outputs": [
    {
     "data": {
      "text/plain": [
       "[0.2923990402317047, 0.8836]"
      ]
     },
     "execution_count": 18,
     "metadata": {},
     "output_type": "execute_result"
    }
   ],
   "source": [
    "result"
   ]
  },
  {
   "cell_type": "markdown",
   "metadata": {},
   "source": [
    "训练完成后，我们当然想实际试一下，对吧。所以我们预测一下测试集，把结果打出来看看："
   ]
  },
  {
   "cell_type": "code",
   "execution_count": 19,
   "metadata": {},
   "outputs": [
    {
     "data": {
      "text/plain": [
       "array([[0.17157233],\n",
       "       [0.99989915],\n",
       "       [0.79564804],\n",
       "       ...,\n",
       "       [0.11750051],\n",
       "       [0.05890778],\n",
       "       [0.5040823 ]], dtype=float32)"
      ]
     },
     "execution_count": 19,
     "metadata": {},
     "output_type": "execute_result"
    }
   ],
   "source": [
    "model.predict(x_test)"
   ]
  },
  {
   "cell_type": "markdown",
   "metadata": {},
   "source": [
    "### 进一步实验\n",
    "\n",
    "1. 尝试只用一个层"
   ]
  },
  {
   "cell_type": "code",
   "execution_count": 26,
   "metadata": {},
   "outputs": [
    {
     "name": "stdout",
     "output_type": "stream",
     "text": [
      "Train on 25000 samples\n",
      "Epoch 1/4\n",
      "25000/25000 [==============================] - 3s 116us/sample - loss: 0.5865 - accuracy: 0.7814\n",
      "Epoch 2/4\n",
      "25000/25000 [==============================] - 1s 31us/sample - loss: 0.4669 - accuracy: 0.8608\n",
      "Epoch 3/4\n",
      "25000/25000 [==============================] - 1s 32us/sample - loss: 0.3991 - accuracy: 0.8790\n",
      "Epoch 4/4\n",
      "25000/25000 [==============================] - 1s 33us/sample - loss: 0.3538 - accuracy: 0.8920\n",
      "25000/1 - 3s - loss: 0.3794 - accuracy: 0.8732\n",
      "[0.3726908649635315, 0.8732]\n"
     ]
    }
   ],
   "source": [
    "model = models.Sequential()\n",
    "# model.add(layers.Dense(16, activation='relu', input_shape=(10000, )))\n",
    "# model.add(layers.Dense(16, activation='relu'))\n",
    "model.add(layers.Dense(1, activation='sigmoid', input_shape=(10000, )))\n",
    "\n",
    "model.compile(optimizer='rmsprop',\n",
    "             loss='binary_crossentropy',\n",
    "             metrics=['accuracy'])\n",
    "\n",
    "model.fit(x_train, y_train, epochs=4, batch_size=512)\n",
    "result = model.evaluate(x_test, y_test, verbose=2)    # verbose=2 to avoid a looooong progress bar that fills the screen with '='. https://github.com/tensorflow/tensorflow/issues/32286\n",
    "print(result)"
   ]
  },
  {
   "cell_type": "markdown",
   "metadata": {},
   "source": [
    "...这问题比较简单，一个层效果都这么好，但比之前正经的差远了\n",
    "\n",
    "2. 多搞几个层"
   ]
  },
  {
   "cell_type": "code",
   "execution_count": 27,
   "metadata": {},
   "outputs": [
    {
     "name": "stdout",
     "output_type": "stream",
     "text": [
      "Train on 25000 samples\n",
      "Epoch 1/4\n",
      "25000/25000 [==============================] - 3s 123us/sample - loss: 0.5285 - accuracy: 0.7614\n",
      "Epoch 2/4\n",
      "25000/25000 [==============================] - 1s 45us/sample - loss: 0.2683 - accuracy: 0.9072s - loss:\n",
      "Epoch 3/4\n",
      "25000/25000 [==============================] - 1s 45us/sample - loss: 0.1949 - accuracy: 0.9297\n",
      "Epoch 4/4\n",
      "25000/25000 [==============================] - 1s 47us/sample - loss: 0.1625 - accuracy: 0.9422\n",
      "25000/1 - 2s - loss: 0.3130 - accuracy: 0.8806\n",
      "[0.30894253887176515, 0.88056]\n"
     ]
    }
   ],
   "source": [
    "model = models.Sequential()\n",
    "model.add(layers.Dense(16, activation='relu', input_shape=(10000, )))\n",
    "model.add(layers.Dense(16, activation='relu'))\n",
    "model.add(layers.Dense(16, activation='relu'))\n",
    "model.add(layers.Dense(16, activation='relu'))\n",
    "model.add(layers.Dense(1, activation='sigmoid'))\n",
    "\n",
    "model.compile(optimizer='rmsprop',\n",
    "             loss='binary_crossentropy',\n",
    "             metrics=['accuracy'])\n",
    "\n",
    "model.fit(x_train, y_train, epochs=4, batch_size=512)\n",
    "result = model.evaluate(x_test, y_test, verbose=2)    # verbose=2 to avoid a looooong progress bar that fills the screen with '='. https://github.com/tensorflow/tensorflow/issues/32286\n",
    "print(result)"
   ]
  },
  {
   "cell_type": "markdown",
   "metadata": {},
   "source": [
    "好一点，但也还不如正经的版本\n",
    "\n",
    "3. 多几个隐藏层的单元"
   ]
  },
  {
   "cell_type": "code",
   "execution_count": 35,
   "metadata": {},
   "outputs": [
    {
     "name": "stdout",
     "output_type": "stream",
     "text": [
      "Train on 25000 samples\n",
      "Epoch 1/4\n",
      "25000/25000 [==============================] - 15s 593us/sample - loss: 0.5297 - accuracy: 0.7964\n",
      "Epoch 2/4\n",
      "25000/25000 [==============================] - 12s 490us/sample - loss: 0.2233 - accuracy: 0.9109\n",
      "Epoch 3/4\n",
      "25000/25000 [==============================] - 12s 489us/sample - loss: 0.1148 - accuracy: 0.9593\n",
      "Epoch 4/4\n",
      "25000/25000 [==============================] - 12s 494us/sample - loss: 0.0578 - accuracy: 0.9835\n",
      "25000/1 - 9s - loss: 0.3693 - accuracy: 0.8812\n",
      "[0.4772889766550064, 0.8812]\n"
     ]
    }
   ],
   "source": [
    "model = models.Sequential()\n",
    "model.add(layers.Dense(16, activation='relu', input_shape=(10000, )))\n",
    "model.add(layers.Dense(1024, activation='relu'))\n",
    "model.add(layers.Dense(1, activation='sigmoid'))\n",
    "\n",
    "model.compile(optimizer='rmsprop',\n",
    "             loss='binary_crossentropy',\n",
    "             metrics=['accuracy'])\n",
    "\n",
    "model.fit(x_train, y_train, epochs=4, batch_size=512)\n",
    "result = model.evaluate(x_test, y_test, verbose=2)    # verbose=2 to avoid a looooong progress bar that fills the screen with '='. https://github.com/tensorflow/tensorflow/issues/32286\n",
    "print(result)"
   ]
  },
  {
   "cell_type": "markdown",
   "metadata": {},
   "source": [
    "不是远多越好呀。\n",
    "\n",
    "4. 用 mse 损失"
   ]
  },
  {
   "cell_type": "code",
   "execution_count": 36,
   "metadata": {},
   "outputs": [
    {
     "name": "stdout",
     "output_type": "stream",
     "text": [
      "Train on 25000 samples\n",
      "Epoch 1/4\n",
      "25000/25000 [==============================] - 3s 119us/sample - loss: 0.1472 - accuracy: 0.8188\n",
      "Epoch 2/4\n",
      "25000/25000 [==============================] - 1s 46us/sample - loss: 0.0755 - accuracy: 0.9121\n",
      "Epoch 3/4\n",
      "25000/25000 [==============================] - 1s 50us/sample - loss: 0.0577 - accuracy: 0.9319\n",
      "Epoch 4/4\n",
      "25000/25000 [==============================] - 1s 47us/sample - loss: 0.0474 - accuracy: 0.9442\n",
      "25000/1 - 3s - loss: 0.0914 - accuracy: 0.8828\n",
      "[0.08648386991858482, 0.88276]\n"
     ]
    }
   ],
   "source": [
    "model = models.Sequential()\n",
    "model.add(layers.Dense(16, activation='relu', input_shape=(10000, )))\n",
    "model.add(layers.Dense(16, activation='relu'))\n",
    "model.add(layers.Dense(1, activation='sigmoid'))\n",
    "\n",
    "model.compile(optimizer='rmsprop',\n",
    "             loss='mse',\n",
    "             metrics=['accuracy'])\n",
    "\n",
    "model.fit(x_train, y_train, epochs=4, batch_size=512)\n",
    "result = model.evaluate(x_test, y_test, verbose=2)    # verbose=2 to avoid a looooong progress bar that fills the screen with '='. https://github.com/tensorflow/tensorflow/issues/32286\n",
    "print(result)"
   ]
  },
  {
   "cell_type": "markdown",
   "metadata": {},
   "source": [
    "5. 用 tanh 激活"
   ]
  },
  {
   "cell_type": "code",
   "execution_count": 37,
   "metadata": {},
   "outputs": [
    {
     "name": "stdout",
     "output_type": "stream",
     "text": [
      "Train on 25000 samples\n",
      "Epoch 1/4\n",
      "25000/25000 [==============================] - 4s 149us/sample - loss: 0.4237 - accuracy: 0.8241\n",
      "Epoch 2/4\n",
      "25000/25000 [==============================] - 1s 46us/sample - loss: 0.2310 - accuracy: 0.9163\n",
      "Epoch 3/4\n",
      "25000/25000 [==============================] - 1s 46us/sample - loss: 0.1779 - accuracy: 0.9329\n",
      "Epoch 4/4\n",
      "25000/25000 [==============================] - 1s 49us/sample - loss: 0.1499 - accuracy: 0.9458\n",
      "25000/1 - 3s - loss: 0.3738 - accuracy: 0.8772\n",
      "[0.3238203083658218, 0.87716]\n"
     ]
    }
   ],
   "source": [
    "model = models.Sequential()\n",
    "model.add(layers.Dense(16, activation='tanh', input_shape=(10000, )))\n",
    "model.add(layers.Dense(16, activation='tanh'))\n",
    "model.add(layers.Dense(1, activation='sigmoid'))\n",
    "\n",
    "model.compile(optimizer='rmsprop',\n",
    "             loss='binary_crossentropy',\n",
    "             metrics=['accuracy'])\n",
    "\n",
    "model.fit(x_train, y_train, epochs=4, batch_size=512)\n",
    "result = model.evaluate(x_test, y_test, verbose=2)    # verbose=2 to avoid a looooong progress bar that fills the screen with '='. https://github.com/tensorflow/tensorflow/issues/32286\n",
    "print(result)"
   ]
  },
  {
   "cell_type": "markdown",
   "metadata": {},
   "source": [
    "所以，这些实验就是说，之前我们书上用的模型是合理的，你改来改去都不如他那个😂。"
   ]
  },
  {
   "cell_type": "code",
   "execution_count": null,
   "metadata": {},
   "outputs": [],
   "source": []
  }
 ],
 "metadata": {
  "kernelspec": {
   "display_name": "Python 3",
   "language": "python",
   "name": "python3"
  },
  "language_info": {
   "codemirror_mode": {
    "name": "ipython",
    "version": 3
   },
   "file_extension": ".py",
   "mimetype": "text/x-python",
   "name": "python",
   "nbconvert_exporter": "python",
   "pygments_lexer": "ipython3",
   "version": "3.7.6"
  }
 },
 "nbformat": 4,
 "nbformat_minor": 4
}
