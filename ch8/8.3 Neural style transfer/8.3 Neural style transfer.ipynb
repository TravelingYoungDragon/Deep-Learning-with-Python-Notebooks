{
 "cells": [
  {
   "cell_type": "markdown",
   "metadata": {},
   "source": [
    "# Deep Learning with Python\n",
    "\n",
    "## 8.3 Neural style transfer\n",
    "\n",
    "> 神经风格迁移\n",
    "\n",
    "神经风格迁移(neural style transfer)，基于深度学习的神经网络，将参考图像的风格应用于目标图像，同时保留目标图像的内容，创造出新的图像。\n",
    "\n",
    "![一个风格迁移的示例](https://tva1.sinaimg.cn/large/007S8ZIlgy1ghsqybmpeij314y0cgarv.jpg)\n",
    "\n",
    "神经风格迁移的思想很简单：定义一个损失函数来指定要实现的目标，然后将这个损失最小化。这里的目标就是保存原始图像的内容，同时采用参考图像的风格。\n",
    "\n",
    "假设有函数 content 和 style 分别可以计算出输入图像的内容和风格，以及有范式函数 distance，则神经风格迁移的损失可以表达为：\n",
    "\n",
    "```python\n",
    "loss = distance(content(original_image) - content(generated_image)) +\n",
    "       distance(style(reference_image) - style(generated_image))\n",
    "```\n",
    "\n",
    "事实上，利用深度卷积神经网络，是可以从数学上定义 style 和 content 函数的。\n",
    "\n",
    "#### 损失定义\n",
    "\n",
    "1. **内容损失**\n",
    "\n",
    "卷积神经网络靠底部（前面）的层激活包含关于图像的局部信息，靠近顶部（后面）的层则包含更加全局、抽象的信息。内容就是图像的全局、抽象的信息，所以可以用卷积神经网络靠顶部的层激活来表示图像的内容。\n",
    "\n",
    "因此，给定一个预训练的卷积神经网络，选定一个靠顶部的层，内容损失可以使用「该层在目标图像上的激活」和「该层在生成图像上的激活」之间的 L2 范数。\n",
    "\n",
    "2. **风格损失**\n",
    "\n",
    "不同于内容只用一个层即可表达，风格需要多个层才能定义。风格是多种方面的，比如笔触、线条、纹理、颜色等等，这些内容会出现在不同的抽象程度上。所以风格的表达就需要捕捉所有空间尺度上提取的外观，而不仅仅是在单一尺度上。\n",
    "\n",
    "在这种思想下，风格损失的表达，可以借助于层激活的 Gram 矩阵。这个 Gram 矩阵就是某一层的各个特征图的内积，表达了层的特征间相互关系(correlation)的映射，它就对应于这个尺度上找到的纹理(texture)的外观。而在不同的层激活内保存相似的内部相互关系，就可以认为是“风格”了。\n",
    "\n",
    "那么，我们就可以用生成图像和风格参考图像在不同层上保持的纹理，来定义风格损失了。\n",
    "\n",
    "#### 神经风格迁移的 Keras 实现\n",
    "\n",
    "神经风格迁移可以用任何预训练卷积神经网络来实现，这里选用 VGG19。\n",
    "\n",
    "神经风格迁移的步骤如下：\n",
    "\n",
    "1. 创建一个网络，同时计算风格参考图像、目标图像和生成图像的 VGG19 层激活;\n",
    "2. 使用这三张图像上计算的层激活来定义之前所述的损失函数;\n",
    "3. 梯度下降来将这个损失函数最小化。\n",
    "\n",
    "在开始构建网络前，先定义风格参考图像和目标图像的路径。如果图像尺寸差异很大，风格迁移会比较困难，所以这里我们还统一定义一下尺寸："
   ]
  },
  {
   "cell_type": "code",
   "execution_count": 15,
   "metadata": {},
   "outputs": [],
   "source": [
    "# 不使用及时执行模式\n",
    "\n",
    "import tensorflow as tf\n",
    "\n",
    "tf.compat.v1.disable_eager_execution()"
   ]
  },
  {
   "cell_type": "code",
   "execution_count": 16,
   "metadata": {},
   "outputs": [],
   "source": [
    "# 定义初始变量\n",
    "\n",
    "from tensorflow.keras.preprocessing.image import load_img, img_to_array\n",
    "\n",
    "target_image_path = 'img/portrait.jpg'\n",
    "style_referencce_image_path = 'img/transfer_style_reference.jpg'\n",
    "\n",
    "width, height = load_img(target_image_path).size\n",
    "img_height = 400\n",
    "img_width = width * img_height // height"
   ]
  },
  {
   "cell_type": "markdown",
   "metadata": {},
   "source": [
    "这里图片我选择了：\n",
    "\n",
    "- transfer_style_reference: 文森特·梵高《麦田里的丝柏树》（*A Wheatfield, with Cypresses*），1889年，收藏于纽约大都会博物馆。\n",
    "- portrait: 保罗·高更《不列塔尼牧人》(*The Swineherd, Brittany*)，1888年，收藏于美国加州洛杉矶郡立美术馆。\n",
    "\n",
    "![麦田里的丝柏树与不列塔尼牧人](https://tva1.sinaimg.cn/large/007S8ZIlgy1ghtv5qecwtj31g20n1u0x.jpg)\n",
    "\n",
    "接下来，我们需要一些辅助函数，用于图像的加载、处理。"
   ]
  },
  {
   "cell_type": "code",
   "execution_count": 17,
   "metadata": {},
   "outputs": [],
   "source": [
    "# 辅助函数\n",
    "\n",
    "import numpy as np\n",
    "from tensorflow.keras.applications import vgg19\n",
    "\n",
    "def preprocess_image(image_path):\n",
    "    img = load_img(image_path, target_size=(img_height, img_width))\n",
    "    img = img_to_array(img)\n",
    "    img = np.expand_dims(img, axis=0)\n",
    "    img = vgg19.preprocess_input(img)\n",
    "    return img\n",
    "\n",
    "def deprocess_image(x):\n",
    "    # vgg19.preprocess_input 会减去ImageNet的平均像素值，使其中心为0。这里做逆操作：\n",
    "    x[:, :, 0] += 103.939\n",
    "    x[:, :, 1] += 116.779\n",
    "    x[:, :, 2] += 123.680\n",
    "    \n",
    "    # BGR -> RGB\n",
    "    x = x[:, :, ::-1]\n",
    "    x = np.clip(x, 0, 255).astype('uint8')\n",
    "    \n",
    "    return x"
   ]
  },
  {
   "cell_type": "markdown",
   "metadata": {},
   "source": [
    "下面构建 VGG19 网络：接收三张图像的 batch 作为输入，三张图像分别是风格参考图像、 目标图像的 constant 和一个用于保存生成图像的 placeholder。"
   ]
  },
  {
   "cell_type": "code",
   "execution_count": 18,
   "metadata": {},
   "outputs": [
    {
     "name": "stdout",
     "output_type": "stream",
     "text": [
      "Model loaded.\n"
     ]
    }
   ],
   "source": [
    "from tensorflow.keras import backend as K\n",
    "\n",
    "target_image = K.constant(preprocess_image(target_image_path))\n",
    "style_reference_image = K.constant(preprocess_image(style_referencce_image_path))\n",
    "combination_image = K.placeholder((1, img_height, img_width, 3))\n",
    "\n",
    "input_tensor = K.concatenate([target_image,\n",
    "                              style_reference_image,\n",
    "                              combination_image], axis=0)\n",
    "\n",
    "model = vgg19.VGG19(input_tensor=input_tensor,\n",
    "                    weights='imagenet',\n",
    "                    include_top=False)\n",
    "\n",
    "print('Model loaded.')"
   ]
  },
  {
   "cell_type": "markdown",
   "metadata": {},
   "source": [
    "定义内容损失，保证目标图像和生成图像在网络顶层的结果相似："
   ]
  },
  {
   "cell_type": "code",
   "execution_count": 19,
   "metadata": {},
   "outputs": [],
   "source": [
    "# 内容损失\n",
    "\n",
    "def content_loss(base, combination):\n",
    "    return K.sum(K.square(combination - base))"
   ]
  },
  {
   "cell_type": "markdown",
   "metadata": {},
   "source": [
    "然后是风格损失，计算输入矩阵的 Gram 矩阵，借助用 Gram 矩阵计算风格损失："
   ]
  },
  {
   "cell_type": "code",
   "execution_count": 20,
   "metadata": {},
   "outputs": [],
   "source": [
    "# 风格损失\n",
    "\n",
    "def gram_matrix(x):\n",
    "    features = K.batch_flatten(K.permute_dimensions(x, (2, 0, 1)))\n",
    "    gram = K.dot(features, K.transpose(features))\n",
    "    return gram\n",
    "\n",
    "def style_loss(style, combination):\n",
    "    S = gram_matrix(style)\n",
    "    C = gram_matrix(combination)\n",
    "    channels = 3\n",
    "    size = img_height * img_width\n",
    "    return K.sum(K.square(S - C)) / (4.0 * (channels ** 2) * (size ** 2))"
   ]
  },
  {
   "cell_type": "markdown",
   "metadata": {},
   "source": [
    "这里我们再额外定义一个「总变差损失」(total variation loss)，促使生成图像具有空间连续性，避免结果过度像素化，相当于一个正则化。"
   ]
  },
  {
   "cell_type": "code",
   "execution_count": 21,
   "metadata": {},
   "outputs": [],
   "source": [
    "# 总变差损失\n",
    "\n",
    "def total_variation_loss(x):\n",
    "    a = K.square(\n",
    "        x[:, :img_height - 1, :img_width - 1, :] - \n",
    "        x[:, 1:, :img_width - 1, :])\n",
    "    b = K.square(\n",
    "        x[:, :img_height - 1, :img_width - 1, :] - \n",
    "        x[:, :img_height - 1, 1:, :])\n",
    "    return K.sum(K.pow(a + b, 1.25))"
   ]
  },
  {
   "cell_type": "markdown",
   "metadata": {},
   "source": [
    "现在考虑具体的损失计算：在计算内容损失时，我们需要一个靠顶部的层；对于风格损失，我们需要使用一系列层，既包括顶层也包括底层；最后还需要添加总变差损失。最终的损失就是这三类损失的加权平均。"
   ]
  },
  {
   "cell_type": "code",
   "execution_count": 22,
   "metadata": {},
   "outputs": [],
   "source": [
    "# 定义需要最小化的最终损失\n",
    "\n",
    "outputs_dict = {layer.name: layer.output for layer in model.layers}\n",
    "\n",
    "content_layer = 'block5_conv2'\n",
    "style_layers = [f'block{i}_conv1' for i in range(1, 6)]\n",
    "\n",
    "total_variation_weight = 1e-4\n",
    "style_weight = 1.0\n",
    "content_weight = 0.025  # content_weight越大，目标内容更容易在生成图像中越容易识别\n",
    "\n",
    "# 内容损失\n",
    "loss = K.variable(0.)\n",
    "layer_features = outputs_dict[content_layer]\n",
    "target_image_features = layer_features[0, :, :, :]\n",
    "combination_features = layer_features[2, :, :, :]\n",
    "loss = loss + content_weight * content_loss(target_image_features, combination_features)\n",
    "\n",
    "# 风格损失\n",
    "for layer_name in style_layers:\n",
    "    layer_features = outputs_dict[layer_name]\n",
    "    style_reference_features = layer_features[1, :, :, :]\n",
    "    combination_features = layer_features[2, :, :, :]\n",
    "    sl = style_loss(style_reference_features, combination_features)\n",
    "    loss = loss + (style_weight / len(style_layers)) * sl\n",
    "    \n",
    "# 总变差损失\n",
    "loss = loss + total_variation_weight * total_variation_loss(combination_image)"
   ]
  },
  {
   "cell_type": "markdown",
   "metadata": {},
   "source": [
    "最后就是梯度下降过程了。这里调用 scipy，用 `L-BFGS` 算法进行最优化。\n",
    "\n",
    "为了快速计算，我们创建一个 Evaluator 类，同时计算损失值和梯度值，在第一次调用时会返回损失值，同时缓存梯度值用于下一次调用。"
   ]
  },
  {
   "cell_type": "code",
   "execution_count": 23,
   "metadata": {},
   "outputs": [],
   "source": [
    "# 设置梯度下降过程\n",
    "\n",
    "grads = K.gradients(loss, combination_image)[0]\n",
    "fetch_loss_and_grads = K.function([combination_image], [loss, grads])\n",
    "\n",
    "class Evaluator(object):\n",
    "    def __init__(self):\n",
    "        self.loss_value = None\n",
    "        self.grads_values = None\n",
    "        \n",
    "    def loss(self, x):\n",
    "        assert self.loss_value is None\n",
    "        x = x.reshape((1, img_height, img_width, 3))\n",
    "        outs = fetch_loss_and_grads([x])\n",
    "        loss_value = outs[0]\n",
    "        grad_values = outs[1].flatten().astype('float64')\n",
    "        self.loss_value = loss_value\n",
    "        self.grads_values = grad_values\n",
    "        return self.loss_value\n",
    "    \n",
    "    def grads(self, x):\n",
    "        assert self.loss_value is not None\n",
    "        grad_values = np.copy(self.grads_values)\n",
    "        self.loss_value = None\n",
    "        self.grad_values = None\n",
    "        return grad_values\n",
    "        \n",
    "evaluator = Evaluator()"
   ]
  },
  {
   "cell_type": "markdown",
   "metadata": {},
   "source": [
    "最后的最后，调用 SciPy 的 L-BFGS 算法来运行梯度上升过程，每一次迭代(20 步梯度上升)后都保存当前的生成图像："
   ]
  },
  {
   "cell_type": "code",
   "execution_count": 24,
   "metadata": {},
   "outputs": [
    {
     "name": "stdout",
     "output_type": "stream",
     "text": [
      "Start of iteration 0\n",
      "  Current loss value: 442468450.0\n",
      "  Image saved as results/result_at_iteration_0.png\n",
      "  Iteration 0 completed in 177.57321500778198 s\n",
      "Start of iteration 1\n",
      "  Current loss value: 220311460.0\n",
      "  Image saved as results/result_at_iteration_1.png\n",
      "  Iteration 1 completed in 170.76263999938965 s\n",
      "Start of iteration 2\n",
      "  Current loss value: 161225440.0\n",
      "  Image saved as results/result_at_iteration_2.png\n",
      "  Iteration 2 completed in 181.72589802742004 s\n",
      "Start of iteration 3\n",
      "  Current loss value: 135288640.0\n",
      "  Image saved as results/result_at_iteration_3.png\n",
      "  Iteration 3 completed in 176.2833709716797 s\n",
      "Start of iteration 4\n",
      "  Current loss value: 117499910.0\n",
      "  Image saved as results/result_at_iteration_4.png\n",
      "  Iteration 4 completed in 191.78947687149048 s\n",
      "Start of iteration 5\n",
      "  Current loss value: 105684536.0\n",
      "  Image saved as results/result_at_iteration_5.png\n",
      "  Iteration 5 completed in 189.79483294487 s\n",
      "Start of iteration 6\n",
      "  Current loss value: 95785740.0\n",
      "  Image saved as results/result_at_iteration_6.png\n",
      "  Iteration 6 completed in 207.53733015060425 s\n",
      "Start of iteration 7\n",
      "  Current loss value: 87925460.0\n",
      "  Image saved as results/result_at_iteration_7.png\n",
      "  Iteration 7 completed in 205.23730516433716 s\n",
      "Start of iteration 8\n",
      "  Current loss value: 80994420.0\n",
      "  Image saved as results/result_at_iteration_8.png\n",
      "  Iteration 8 completed in 173.9172248840332 s\n",
      "Start of iteration 9\n",
      "  Current loss value: 75526030.0\n",
      "  Image saved as results/result_at_iteration_9.png\n",
      "  Iteration 9 completed in 171.63874793052673 s\n",
      "Start of iteration 10\n",
      "  Current loss value: 69631650.0\n",
      "  Image saved as results/result_at_iteration_10.png\n",
      "  Iteration 10 completed in 196.33709502220154 s\n",
      "Start of iteration 11\n",
      "  Current loss value: 65286160.0\n",
      "  Image saved as results/result_at_iteration_11.png\n",
      "  Iteration 11 completed in 191.3251178264618 s\n",
      "Start of iteration 12\n",
      "  Current loss value: 61511944.0\n",
      "  Image saved as results/result_at_iteration_12.png\n",
      "  Iteration 12 completed in 206.86293005943298 s\n",
      "Start of iteration 13\n",
      "  Current loss value: 58609350.0\n",
      "  Image saved as results/result_at_iteration_13.png\n",
      "  Iteration 13 completed in 177.63087797164917 s\n",
      "Start of iteration 14\n",
      "  Current loss value: 55896484.0\n",
      "  Image saved as results/result_at_iteration_14.png\n",
      "  Iteration 14 completed in 174.04010701179504 s\n",
      "Start of iteration 15\n",
      "  Current loss value: 53155708.0\n",
      "  Image saved as results/result_at_iteration_15.png\n",
      "  Iteration 15 completed in 179.62437200546265 s\n",
      "Start of iteration 16\n",
      "  Current loss value: 50788788.0\n",
      "  Image saved as results/result_at_iteration_16.png\n",
      "  Iteration 16 completed in 174.6363160610199 s\n",
      "Start of iteration 17\n",
      "  Current loss value: 48466696.0\n",
      "  Image saved as results/result_at_iteration_17.png\n",
      "  Iteration 17 completed in 172.9484281539917 s\n",
      "Start of iteration 18\n",
      "  Current loss value: 46473520.0\n",
      "  Image saved as results/result_at_iteration_18.png\n",
      "  Iteration 18 completed in 171.4425630569458 s\n",
      "Start of iteration 19\n",
      "  Current loss value: 44762796.0\n",
      "  Image saved as results/result_at_iteration_19.png\n",
      "  Iteration 19 completed in 177.95070385932922 s\n"
     ]
    }
   ],
   "source": [
    "from scipy.optimize import fmin_l_bfgs_b\n",
    "from imageio import imsave\n",
    "import time\n",
    "\n",
    "iterations = 20\n",
    "\n",
    "def result_fname(iteration):\n",
    "    return f'results/result_at_iteration_{iteration}.png'\n",
    "\n",
    "x = preprocess_image(target_image_path)\n",
    "x = x.flatten()\n",
    "\n",
    "for i in range(iterations):\n",
    "    print('Start of iteration', i)\n",
    "    start_time = time.time()\n",
    "    \n",
    "    x, min_val, info = fmin_l_bfgs_b(evaluator.loss,\n",
    "                                     x,\n",
    "                                     fprime=evaluator.grads,\n",
    "                                     maxfun=20)\n",
    "    print('  Current loss value:', min_val)\n",
    "    \n",
    "    img = x.copy().reshape((img_height, img_width, 3))\n",
    "    img = deprocess_image(img)\n",
    "    fname = result_fname(i)\n",
    "    imsave(fname, img)\n",
    "    print('  Image saved as', fname)\n",
    "    \n",
    "    end_time = time.time()\n",
    "    print(f'  Iteration {i} completed in {end_time - start_time} s')"
   ]
  },
  {
   "cell_type": "markdown",
   "metadata": {},
   "source": [
    "把结果和原图放在一起比较一下：\n",
    "\n",
    "![结果1](https://tva1.sinaimg.cn/large/007S8ZIlgy1ghu38838haj317h0u0b2b.jpg)\n",
    "\n",
    "再看一个例子：风格参考还是用梵高的《麦田里的丝柏树》，内容用米勒的《拾穗者》(Des glaneuses，1857年，巴黎奥塞美术馆)。比较有意思的是，梵高本人画过一幅部分模仿《拾穗者》的《夕阳下两位农妇开掘积雪覆盖的田地》(Zwei grabende Bäuerinnen auf schneebedecktem Feld)：\n",
    "\n",
    "![结果2](https://tva1.sinaimg.cn/large/007S8ZIlgy1ghu6d9c19jj30vr0u0u0x.jpg)\n",
    "\n",
    "可以看到，我们的机器只是简单粗暴的风格迁移，而大师本人会在模仿中再创作。\n",
    "\n",
    "最后，补充一点。这个风格迁移算法的运行比较慢，但足够简单。要实现快速风格迁移，可以考虑：首先利用这里介绍的方法，固定一张风格参考图像，给不同的内容图像，生成一大堆「输入-输出」训练样例，拿这些「输入-输出」去训练一个简单的卷积神经网络来学习这个特定风格的变换(输入->输出)。完成之后，对一张图像进行特定风格的迁移就非常快了，做一次前向传递就完成了。"
   ]
  },
  {
   "cell_type": "code",
   "execution_count": null,
   "metadata": {},
   "outputs": [],
   "source": []
  }
 ],
 "metadata": {
  "kernelspec": {
   "display_name": "Python 3",
   "language": "python",
   "name": "python3"
  },
  "language_info": {
   "codemirror_mode": {
    "name": "ipython",
    "version": 3
   },
   "file_extension": ".py",
   "mimetype": "text/x-python",
   "name": "python",
   "nbconvert_exporter": "python",
   "pygments_lexer": "ipython3",
   "version": "3.7.6"
  }
 },
 "nbformat": 4,
 "nbformat_minor": 4
}
