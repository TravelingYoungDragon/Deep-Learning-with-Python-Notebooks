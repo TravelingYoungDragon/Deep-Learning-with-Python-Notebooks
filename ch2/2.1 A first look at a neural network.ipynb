{
 "cells": [
  {
   "cell_type": "markdown",
   "metadata": {},
   "source": [
    "# Deep Learning with Python\n",
    "\n",
    "## 2.1 A first look at a neural network\n",
    "\n",
    "> 初识神经网络\n",
    "\n",
    "学编程语言从 “Hello World” 开始，学 Deep learning 从 `MINST` 开始。\n",
    "\n",
    "MNIST 用来训练手写数字识别， 它包含 28x28 的灰度手写图片，以及每张图片对应的标签(0~9的值)。\n",
    "\n",
    "### 导入MNIST数据集"
   ]
  },
  {
   "cell_type": "code",
   "execution_count": 1,
   "metadata": {},
   "outputs": [],
   "source": [
    "# Loading the MNIST dataset in Keras\n",
    "from tensorflow.keras.datasets import mnist\n",
    "(train_images, train_labels), (test_images, test_labels) = mnist.load_data()"
   ]
  },
  {
   "cell_type": "markdown",
   "metadata": {},
   "source": [
    "看一下训练集："
   ]
  },
  {
   "cell_type": "code",
   "execution_count": 2,
   "metadata": {},
   "outputs": [
    {
     "name": "stdout",
     "output_type": "stream",
     "text": [
      "(60000, 28, 28)\n",
      "(60000,)\n"
     ]
    },
    {
     "data": {
      "text/plain": [
       "array([5, 0, 4, ..., 5, 6, 8], dtype=uint8)"
      ]
     },
     "execution_count": 2,
     "metadata": {},
     "output_type": "execute_result"
    }
   ],
   "source": [
    "print(train_images.shape)\n",
    "print(train_labels.shape)\n",
    "train_labels"
   ]
  },
  {
   "cell_type": "markdown",
   "metadata": {},
   "source": [
    "这是测试集："
   ]
  },
  {
   "cell_type": "code",
   "execution_count": 3,
   "metadata": {},
   "outputs": [
    {
     "name": "stdout",
     "output_type": "stream",
     "text": [
      "(10000, 28, 28)\n",
      "(10000,)\n"
     ]
    },
    {
     "data": {
      "text/plain": [
       "array([7, 2, 1, ..., 4, 5, 6], dtype=uint8)"
      ]
     },
     "execution_count": 3,
     "metadata": {},
     "output_type": "execute_result"
    }
   ],
   "source": [
    "print(test_images.shape)\n",
    "print(test_labels.shape)\n",
    "test_labels"
   ]
  },
  {
   "cell_type": "markdown",
   "metadata": {},
   "source": [
    "### 网络构建\n",
    "\n",
    "我们来构建一个用来学习 MNIST 集的神经网络："
   ]
  },
  {
   "cell_type": "code",
   "execution_count": 4,
   "metadata": {},
   "outputs": [],
   "source": [
    "from tensorflow.keras import models\n",
    "from tensorflow.keras import layers\n",
    "\n",
    "network = models.Sequential()\n",
    "network.add(layers.Dense(512, activation='relu', input_shape=(28 * 28, )))\n",
    "network.add(layers.Dense(10, activation='softmax'))"
   ]
  },
  {
   "cell_type": "markdown",
   "metadata": {},
   "source": [
    "神经网络是一个个「层」组成的。\n",
    "一个「层」就像是一个“蒸馏过滤器”，它会“过滤”处理输入的数据，从里面“精炼”出需要的信息，然后传到下一层。\n",
    "\n",
    "这样一系列的「层」组合起来，像流水线一样对数据进行处理。\n",
    "层层扬弃，让被处理的数据，或者说“数据的表示”对我们最终希望的结果越来越“有用”。\n",
    "\n",
    "我们刚才这段代码构建的网络包含两个「Dense 层」，这么叫是因为它们是密集连接（densely connected）或者说是 *全连接* 的。\n",
    "\n",
    "数据到了最后一层（第二层），是一个 **10路** 的 softmax 层。\n",
    "这个层输出的是一个数组，包含 10 个概率值（它们的和为1），这个输出「表示」的信息就对我们预测图片对应的数字相当有用了。\n",
    "事实上这输出中的每一个概率值就分别代表输入图片属于10个数字（0～9）中的一个的概率！\n",
    "\n",
    "### 编译\n",
    "\n",
    "接下来，我们要 *编译* 这个网络，这个步骤需要给3个参数：\n",
    "\n",
    "- 损失函数：评价你这网络表现的好不好的函数\n",
    "- 优化器：怎么更新（优化）你这个网络\n",
    "- 训练和测试过程中需要监控的指标，比如这个例子里，我们只关心一个指标 —— 预测的精度"
   ]
  },
  {
   "cell_type": "code",
   "execution_count": 5,
   "metadata": {},
   "outputs": [],
   "source": [
    "network.compile(loss=\"categorical_crossentropy\",\n",
    "                optimizer='rmsprop',\n",
    "                metrics=['accuracy'])"
   ]
  },
  {
   "cell_type": "markdown",
   "metadata": {},
   "source": [
    "### 预处理\n",
    "\n",
    "#### 图形处理\n",
    "\n",
    "我们还需要处理一下图形数据，把它变成我们的网络认识的样子。\n",
    "\n",
    "MNIST 数据集里的图片是 28x28 的，每个值是属于 [0, 255] 的 uint8。\n",
    "而我们的神经网络想要的是 28x28 的在 [0, 1] 中的 float32。"
   ]
  },
  {
   "cell_type": "code",
   "execution_count": 6,
   "metadata": {},
   "outputs": [],
   "source": [
    "train_images = train_images.reshape((60000, 28 * 28))\n",
    "train_images = train_images.astype('float32') / 255\n",
    "\n",
    "test_images = test_images.reshape((10000, 28 * 28))\n",
    "test_images = test_images.astype('float32') / 255"
   ]
  },
  {
   "cell_type": "markdown",
   "metadata": {},
   "source": [
    "#### 标签处理\n",
    "\n",
    "同样，标签也是需要处理一下的。"
   ]
  },
  {
   "cell_type": "code",
   "execution_count": 7,
   "metadata": {},
   "outputs": [],
   "source": [
    "from tensorflow.keras.utils import to_categorical\n",
    "\n",
    "train_labels = to_categorical(train_labels)\n",
    "test_labels = to_categorical(test_labels)"
   ]
  },
  {
   "cell_type": "markdown",
   "metadata": {},
   "source": [
    "### 训练网络"
   ]
  },
  {
   "cell_type": "code",
   "execution_count": 8,
   "metadata": {},
   "outputs": [
    {
     "name": "stdout",
     "output_type": "stream",
     "text": [
      "Train on 60000 samples\n",
      "Epoch 1/5\n",
      "60000/60000 [==============================] - 3s 49us/sample - loss: 0.2549 - accuracy: 0.9254\n",
      "Epoch 2/5\n",
      "60000/60000 [==============================] - 2s 38us/sample - loss: 0.1025 - accuracy: 0.9693\n",
      "Epoch 3/5\n",
      "60000/60000 [==============================] - 2s 35us/sample - loss: 0.0676 - accuracy: 0.9800\n",
      "Epoch 4/5\n",
      "60000/60000 [==============================] - 2s 37us/sample - loss: 0.0491 - accuracy: 0.9848\n",
      "Epoch 5/5\n",
      "60000/60000 [==============================] - 2s 42us/sample - loss: 0.0369 - accuracy: 0.9888\n"
     ]
    },
    {
     "data": {
      "text/plain": [
       "<tensorflow.python.keras.callbacks.History at 0x13a7892d0>"
      ]
     },
     "execution_count": 8,
     "metadata": {},
     "output_type": "execute_result"
    }
   ],
   "source": [
    "network.fit(train_images, train_labels, epochs=5, batch_size=128)"
   ]
  },
  {
   "cell_type": "markdown",
   "metadata": {},
   "source": [
    "可以看到，训练很快，一会儿就对训练集有 98%+ 的精度了。\n",
    "\n",
    "再用测试集去试试："
   ]
  },
  {
   "cell_type": "code",
   "execution_count": 9,
   "metadata": {},
   "outputs": [
    {
     "name": "stdout",
     "output_type": "stream",
     "text": [
      "10000/1 - 0s - loss: 0.0362 - accuracy: 0.9789\n",
      "test_acc: 0.9789\n"
     ]
    }
   ],
   "source": [
    "test_loss, test_acc = network.evaluate(test_images, test_labels, verbose=2)    # verbose=2 to avoid a looooong progress bar that fills the screen with '='. https://github.com/tensorflow/tensorflow/issues/32286\n",
    "print('test_acc:', test_acc)"
   ]
  },
  {
   "cell_type": "markdown",
   "metadata": {},
   "source": [
    "我们训练好的网络在测试集下的表现并没有之前在训练集中那么好，这是「过拟合」的锅。"
   ]
  }
 ],
 "metadata": {
  "kernelspec": {
   "display_name": "Python 3",
   "language": "python",
   "name": "python3"
  },
  "language_info": {
   "codemirror_mode": {
    "name": "ipython",
    "version": 3
   },
   "file_extension": ".py",
   "mimetype": "text/x-python",
   "name": "python",
   "nbconvert_exporter": "python",
   "pygments_lexer": "ipython3",
   "version": "3.7.6"
  }
 },
 "nbformat": 4,
 "nbformat_minor": 4
}
